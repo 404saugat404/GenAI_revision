{
 "cells": [
  {
   "cell_type": "code",
   "execution_count": 1,
   "metadata": {},
   "outputs": [],
   "source": [
    "import langchain\n",
    "from langchain.prompts import PromptTemplate\n",
    "from langchain.chat_models import ChatOpenAI\n",
    "\n"
   ]
  },
  {
   "cell_type": "code",
   "execution_count": 2,
   "metadata": {},
   "outputs": [],
   "source": [
    "from dotenv import load_dotenv\n",
    "import os\n",
    "\n",
    "load_dotenv()\n",
    "api_key=os.getenv(\"openai_api_key\")"
   ]
  },
  {
   "cell_type": "code",
   "execution_count": 3,
   "metadata": {},
   "outputs": [
    {
     "name": "stderr",
     "output_type": "stream",
     "text": [
      "/home/saugat/Desktop/GenAI/GenAI_env/lib/python3.10/site-packages/langchain_core/_api/deprecation.py:139: LangChainDeprecationWarning: The class `ChatOpenAI` was deprecated in LangChain 0.0.10 and will be removed in 0.3.0. An updated version of the class exists in the langchain-openai package and should be used instead. To use it run `pip install -U langchain-openai` and import as `from langchain_openai import ChatOpenAI`.\n",
      "  warn_deprecated(\n"
     ]
    }
   ],
   "source": [
    "client=ChatOpenAI(api_key=api_key, model_name=\"gpt-3.5-turbo\", temperature=0.5)"
   ]
  },
  {
   "cell_type": "code",
   "execution_count": 4,
   "metadata": {},
   "outputs": [],
   "source": [
    "RESPONSE_JSON={\n",
    "    '1':{\n",
    "        'mcq':'multiple choice questions',\n",
    "        'options':{\n",
    "            'a':'choice here',\n",
    "            'b':'choice here',\n",
    "            'c':'choice here',\n",
    "            'c':'choice here',\n",
    "            'd':''\n",
    "        },\n",
    "        'correct':'correct answer',\n",
    "    },\n",
    "\n",
    "    '3':{\n",
    "        'mcq':'multiple choice questions',\n",
    "        'options':{\n",
    "            'a':'choice here',\n",
    "            'b':'choice here',\n",
    "            'c':'choice here',\n",
    "            'c':'choice here',\n",
    "            'd':''\n",
    "        },\n",
    "        'correct':'correct answer',\n",
    "    },\n",
    "\n",
    "    '3':{\n",
    "        'mcq':'multiple choice questions',\n",
    "        'options':{\n",
    "            'a':'choice here',\n",
    "            'b':'choice here',\n",
    "            'c':'choice here',\n",
    "            'c':'choice here',\n",
    "            'd':''\n",
    "        },\n",
    "        'correct':'correct answer',\n",
    "    },\n",
    "    \n",
    "}"
   ]
  },
  {
   "cell_type": "code",
   "execution_count": 5,
   "metadata": {},
   "outputs": [],
   "source": [
    "Template1=\"\"\"\n",
    "text:{text}\n",
    "you are a mcq generator.Based on the given text, your job is to generate {number} multiple choice question for\n",
    "{subject} student in {tone} tone.Make sure the questions are not repeated and check all the questions to be conforming the text as well.\n",
    "Make sure the format is in RESPONSE_JSON format which is given below and use it as a guide.\n",
    "Enure to make {number} MCQs\n",
    "\n",
    "{response_json}\n",
    "\n",
    "\"\"\""
   ]
  },
  {
   "cell_type": "code",
   "execution_count": 7,
   "metadata": {},
   "outputs": [],
   "source": [
    "quiz_generation_prompt=PromptTemplate(\n",
    "    input_variables=['text','number','subject','tone','response_json'],\n",
    "    template=Template1\n",
    ")"
   ]
  },
  {
   "cell_type": "code",
   "execution_count": 8,
   "metadata": {},
   "outputs": [
    {
     "name": "stderr",
     "output_type": "stream",
     "text": [
      "/home/saugat/Desktop/GenAI/GenAI_env/lib/python3.10/site-packages/langchain_core/_api/deprecation.py:139: LangChainDeprecationWarning: The class `LLMChain` was deprecated in LangChain 0.1.17 and will be removed in 1.0. Use RunnableSequence, e.g., `prompt | llm` instead.\n",
      "  warn_deprecated(\n"
     ]
    }
   ],
   "source": [
    "from langchain.chains import LLMChain\n",
    "quiz_creation_chain=LLMChain(llm=client, prompt=quiz_generation_prompt,output_key='quiz',verbose=True)"
   ]
  },
  {
   "cell_type": "code",
   "execution_count": 9,
   "metadata": {},
   "outputs": [],
   "source": [
    "\n",
    "\n",
    "Template2=\"\"\"\n",
    "You are an expert english grammarian and writer. Given a Multiple Choice Quiz for {subject} students.\\\n",
    "You need to evaluate the complexity of the question and give a complete analysis of the quiz. Only use at max 50 words for complexity analysis. \n",
    "if the quiz is not at per with the cognitive and analytical abilities of the students,\\\n",
    "update the quiz questions which needs to be changed and change the tone such that it perfectly fits the student abilities\n",
    "Quiz_MCQs:\n",
    "{quiz}\n",
    "\n",
    "Check from an expert English Writer of the above quiz:\n",
    "\"\"\"\n",
    "\n"
   ]
  },
  {
   "cell_type": "code",
   "execution_count": 10,
   "metadata": {},
   "outputs": [],
   "source": [
    "quiz_evaluation_prompt=PromptTemplate(\n",
    "    input_variables=['subject','quiz'],\n",
    "    template=Template2\n",
    ")"
   ]
  },
  {
   "cell_type": "code",
   "execution_count": 11,
   "metadata": {},
   "outputs": [],
   "source": [
    "from langchain.chains import LLMChain\n",
    "quiz_evaluation_chain=LLMChain(llm=client, prompt=quiz_evaluation_prompt,output_key=\"review\",verbose=True)"
   ]
  },
  {
   "cell_type": "code",
   "execution_count": 12,
   "metadata": {},
   "outputs": [],
   "source": [
    "from langchain.chains import SequentialChain"
   ]
  },
  {
   "cell_type": "code",
   "execution_count": 13,
   "metadata": {},
   "outputs": [],
   "source": [
    "final_chain=SequentialChain(\n",
    "    chains=[quiz_creation_chain,quiz_evaluation_chain],\n",
    "    input_variables=['text','number','subject','tone','response_json'],\n",
    "    output_variables=['quiz','review'],\n",
    "    verbose=True\n",
    "                            )\n",
    "\n"
   ]
  },
  {
   "cell_type": "code",
   "execution_count": 14,
   "metadata": {},
   "outputs": [],
   "source": [
    "file_path=\"/home/saugat/Desktop/GenAI/data.txt\""
   ]
  },
  {
   "cell_type": "code",
   "execution_count": 15,
   "metadata": {},
   "outputs": [],
   "source": [
    "with open(file_path,\"r\") as f:\n",
    "    text=f.read()"
   ]
  },
  {
   "cell_type": "code",
   "execution_count": 16,
   "metadata": {},
   "outputs": [
    {
     "data": {
      "text/plain": [
       "'Biology is the scientific study of life.[1][2][3] It is a natural science with a broad scope but has several unifying themes that tie it together as a single, coherent field.[1][2][3] For instance, all organisms are made up of cells that process hereditary information encoded in genes, which can be transmitted to future generations. Another major theme is evolution, which explains the unity and diversity of life.[1][2][3] Energy processing is also important to life as it allows organisms to move, grow, and reproduce.[1][2][3] Finally, all organisms are able to regulate their own internal environments.[1][2][3][4][5]\\n\\nBiologists are able to study life at multiple levels of organization,[1] from the molecular biology of a cell to the anatomy and physiology of plants and animals, and evolution of populations.[1][6] Hence, there are multiple subdisciplines within biology, each defined by the nature of their research questions and the tools that they use.[7][8][9] Like other scientists, biologists use the scientific method to make observations, pose questions, generate hypotheses, perform experiments, and form conclusions about the world around them.[1]\\n\\nLife on Earth, which emerged more than 3.7 billion years ago,[10] is immensely diverse. Biologists have sought to study and classify the various forms of life, from prokaryotic organisms such as archaea and bacteria to eukaryotic organisms such as protists, fungi, plants, and animals. These various organisms contribute to the biodiversity of an ecosystem, where they play specialized roles in the cycling of nutrients and energy through their biophysical environment.'"
      ]
     },
     "execution_count": 16,
     "metadata": {},
     "output_type": "execute_result"
    }
   ],
   "source": [
    "text"
   ]
  },
  {
   "cell_type": "code",
   "execution_count": 17,
   "metadata": {},
   "outputs": [
    {
     "data": {
      "text/plain": [
       "{'1': {'mcq': 'multiple choice questions',\n",
       "  'options': {'a': 'choice here',\n",
       "   'b': 'choice here',\n",
       "   'c': 'choice here',\n",
       "   'd': ''},\n",
       "  'correct': 'correct answer'},\n",
       " '3': {'mcq': 'multiple choice questions',\n",
       "  'options': {'a': 'choice here',\n",
       "   'b': 'choice here',\n",
       "   'c': 'choice here',\n",
       "   'd': ''},\n",
       "  'correct': 'correct answer'}}"
      ]
     },
     "execution_count": 17,
     "metadata": {},
     "output_type": "execute_result"
    }
   ],
   "source": [
    "RESPONSE_JSON"
   ]
  },
  {
   "cell_type": "code",
   "execution_count": 19,
   "metadata": {},
   "outputs": [],
   "source": [
    "number=5\n",
    "subject=\"biology\"\n",
    "tone='simple'"
   ]
  },
  {
   "cell_type": "code",
   "execution_count": 20,
   "metadata": {},
   "outputs": [
    {
     "name": "stderr",
     "output_type": "stream",
     "text": [
      "/home/saugat/Desktop/GenAI/GenAI_env/lib/python3.10/site-packages/langchain_core/_api/deprecation.py:139: LangChainDeprecationWarning: The method `Chain.__call__` was deprecated in langchain 0.1.0 and will be removed in 0.3.0. Use invoke instead.\n",
      "  warn_deprecated(\n"
     ]
    },
    {
     "name": "stdout",
     "output_type": "stream",
     "text": [
      "\n",
      "\n",
      "\u001b[1m> Entering new SequentialChain chain...\u001b[0m\n",
      "\n",
      "\n",
      "\u001b[1m> Entering new LLMChain chain...\u001b[0m\n",
      "Prompt after formatting:\n",
      "\u001b[32;1m\u001b[1;3m\n",
      "text:Biology is the scientific study of life.[1][2][3] It is a natural science with a broad scope but has several unifying themes that tie it together as a single, coherent field.[1][2][3] For instance, all organisms are made up of cells that process hereditary information encoded in genes, which can be transmitted to future generations. Another major theme is evolution, which explains the unity and diversity of life.[1][2][3] Energy processing is also important to life as it allows organisms to move, grow, and reproduce.[1][2][3] Finally, all organisms are able to regulate their own internal environments.[1][2][3][4][5]\n",
      "\n",
      "Biologists are able to study life at multiple levels of organization,[1] from the molecular biology of a cell to the anatomy and physiology of plants and animals, and evolution of populations.[1][6] Hence, there are multiple subdisciplines within biology, each defined by the nature of their research questions and the tools that they use.[7][8][9] Like other scientists, biologists use the scientific method to make observations, pose questions, generate hypotheses, perform experiments, and form conclusions about the world around them.[1]\n",
      "\n",
      "Life on Earth, which emerged more than 3.7 billion years ago,[10] is immensely diverse. Biologists have sought to study and classify the various forms of life, from prokaryotic organisms such as archaea and bacteria to eukaryotic organisms such as protists, fungi, plants, and animals. These various organisms contribute to the biodiversity of an ecosystem, where they play specialized roles in the cycling of nutrients and energy through their biophysical environment.\n",
      "you are a mcq generator.Based on the given text, your job is to generate 5 multiple choice question for\n",
      "biology student in simple tone.Make sure the questions are not repeated and check all the questions to be conforming the text as well.\n",
      "Make sure the format is in RESPONSE_JSON format which is given below and use it as a guide.\n",
      "Enure to make 5 MCQs\n",
      "\n",
      "{\"1\": {\"mcq\": \"multiple choice questions\", \"options\": {\"a\": \"choice here\", \"b\": \"choice here\", \"c\": \"choice here\", \"d\": \"\"}, \"correct\": \"correct answer\"}, \"3\": {\"mcq\": \"multiple choice questions\", \"options\": {\"a\": \"choice here\", \"b\": \"choice here\", \"c\": \"choice here\", \"d\": \"\"}, \"correct\": \"correct answer\"}}\n",
      "\n",
      "\u001b[0m\n",
      "\n",
      "\u001b[1m> Finished chain.\u001b[0m\n",
      "\n",
      "\n",
      "\u001b[1m> Entering new LLMChain chain...\u001b[0m\n",
      "Prompt after formatting:\n",
      "\u001b[32;1m\u001b[1;3m\n",
      "You are an expert english grammarian and writer. Given a Multiple Choice Quiz for biology students.You need to evaluate the complexity of the question and give a complete analysis of the quiz. Only use at max 50 words for complexity analysis. \n",
      "if the quiz is not at per with the cognitive and analytical abilities of the students,update the quiz questions which needs to be changed and change the tone such that it perfectly fits the student abilities\n",
      "Quiz_MCQs:\n",
      "{\n",
      "\"1\": {\n",
      "\"mcq\": \"What is biology?\",\n",
      "\"options\": {\n",
      "\"a\": \"The study of rocks\",\n",
      "\"b\": \"The scientific study of life\",\n",
      "\"c\": \"The study of outer space\",\n",
      "\"d\": \"The study of economics\"\n",
      "},\n",
      "\"correct\": \"b\"\n",
      "},\n",
      "\"2\": {\n",
      "\"mcq\": \"Which theme in biology explains the unity and diversity of life?\",\n",
      "\"options\": {\n",
      "\"a\": \"Evolution\",\n",
      "\"b\": \"Chemistry\",\n",
      "\"c\": \"Physics\",\n",
      "\"d\": \"Genetics\"\n",
      "},\n",
      "\"correct\": \"a\"\n",
      "},\n",
      "\"3\": {\n",
      "\"mcq\": \"What is the importance of energy processing in organisms?\",\n",
      "\"options\": {\n",
      "\"a\": \"It allows organisms to communicate\",\n",
      "\"b\": \"It allows organisms to move, grow, and reproduce\",\n",
      "\"c\": \"It allows organisms to fly\",\n",
      "\"d\": \"It allows organisms to hibernate\"\n",
      "},\n",
      "\"correct\": \"b\"\n",
      "},\n",
      "\"4\": {\n",
      "\"mcq\": \"What is a key characteristic of all organisms mentioned in the text?\",\n",
      "\"options\": {\n",
      "\"a\": \"They are made up of rocks\",\n",
      "\"b\": \"They can't regulate their internal environments\",\n",
      "\"c\": \"They are able to regulate their own internal environments\",\n",
      "\"d\": \"They don't have genes\"\n",
      "},\n",
      "\"correct\": \"c\"\n",
      "},\n",
      "\"5\": {\n",
      "\"mcq\": \"What is the diversity of life on Earth attributed to?\",\n",
      "\"options\": {\n",
      "\"a\": \"The number of planets in the solar system\",\n",
      "\"b\": \"The various forms of life, from prokaryotic to eukaryotic organisms\",\n",
      "\"c\": \"The amount of water on Earth\",\n",
      "\"d\": \"The temperature of the sun\"\n",
      "},\n",
      "\"correct\": \"b\"\n",
      "}\n",
      "}\n",
      "\n",
      "Check from an expert English Writer of the above quiz:\n",
      "\u001b[0m\n",
      "\n",
      "\u001b[1m> Finished chain.\u001b[0m\n",
      "\n",
      "\u001b[1m> Finished chain.\u001b[0m\n"
     ]
    }
   ],
   "source": [
    "from langchain.callbacks import get_openai_callback\n",
    "import json\n",
    "\n",
    "with get_openai_callback() as cb:\n",
    "    response=final_chain(\n",
    "        {\n",
    "            'text':text,\n",
    "            'number':number,\n",
    "            \"subject\":subject,\n",
    "            'tone':tone,\n",
    "            \"response_json\":json.dumps(RESPONSE_JSON)\n",
    "        }\n",
    "    )"
   ]
  },
  {
   "cell_type": "code",
   "execution_count": 21,
   "metadata": {},
   "outputs": [
    {
     "name": "stdout",
     "output_type": "stream",
     "text": [
      "Total Tokens:1422\n",
      "Prompt Tokens:1001\n",
      "Completion Tokens:421\n",
      "Total Cost:0.0023435\n"
     ]
    }
   ],
   "source": [
    "print(f\"Total Tokens:{cb.total_tokens}\")\n",
    "print(f\"Prompt Tokens:{cb.prompt_tokens}\")\n",
    "print(f\"Completion Tokens:{cb.completion_tokens}\")\n",
    "print(f\"Total Cost:{cb.total_cost}\")"
   ]
  },
  {
   "cell_type": "code",
   "execution_count": 22,
   "metadata": {},
   "outputs": [
    {
     "data": {
      "text/plain": [
       "{'text': 'Biology is the scientific study of life.[1][2][3] It is a natural science with a broad scope but has several unifying themes that tie it together as a single, coherent field.[1][2][3] For instance, all organisms are made up of cells that process hereditary information encoded in genes, which can be transmitted to future generations. Another major theme is evolution, which explains the unity and diversity of life.[1][2][3] Energy processing is also important to life as it allows organisms to move, grow, and reproduce.[1][2][3] Finally, all organisms are able to regulate their own internal environments.[1][2][3][4][5]\\n\\nBiologists are able to study life at multiple levels of organization,[1] from the molecular biology of a cell to the anatomy and physiology of plants and animals, and evolution of populations.[1][6] Hence, there are multiple subdisciplines within biology, each defined by the nature of their research questions and the tools that they use.[7][8][9] Like other scientists, biologists use the scientific method to make observations, pose questions, generate hypotheses, perform experiments, and form conclusions about the world around them.[1]\\n\\nLife on Earth, which emerged more than 3.7 billion years ago,[10] is immensely diverse. Biologists have sought to study and classify the various forms of life, from prokaryotic organisms such as archaea and bacteria to eukaryotic organisms such as protists, fungi, plants, and animals. These various organisms contribute to the biodiversity of an ecosystem, where they play specialized roles in the cycling of nutrients and energy through their biophysical environment.',\n",
       " 'number': 5,\n",
       " 'subject': 'biology',\n",
       " 'tone': 'simple',\n",
       " 'response_json': '{\"1\": {\"mcq\": \"multiple choice questions\", \"options\": {\"a\": \"choice here\", \"b\": \"choice here\", \"c\": \"choice here\", \"d\": \"\"}, \"correct\": \"correct answer\"}, \"3\": {\"mcq\": \"multiple choice questions\", \"options\": {\"a\": \"choice here\", \"b\": \"choice here\", \"c\": \"choice here\", \"d\": \"\"}, \"correct\": \"correct answer\"}}',\n",
       " 'quiz': '{\\n\"1\": {\\n\"mcq\": \"What is biology?\",\\n\"options\": {\\n\"a\": \"The study of rocks\",\\n\"b\": \"The scientific study of life\",\\n\"c\": \"The study of outer space\",\\n\"d\": \"The study of economics\"\\n},\\n\"correct\": \"b\"\\n},\\n\"2\": {\\n\"mcq\": \"Which theme in biology explains the unity and diversity of life?\",\\n\"options\": {\\n\"a\": \"Evolution\",\\n\"b\": \"Chemistry\",\\n\"c\": \"Physics\",\\n\"d\": \"Genetics\"\\n},\\n\"correct\": \"a\"\\n},\\n\"3\": {\\n\"mcq\": \"What is the importance of energy processing in organisms?\",\\n\"options\": {\\n\"a\": \"It allows organisms to communicate\",\\n\"b\": \"It allows organisms to move, grow, and reproduce\",\\n\"c\": \"It allows organisms to fly\",\\n\"d\": \"It allows organisms to hibernate\"\\n},\\n\"correct\": \"b\"\\n},\\n\"4\": {\\n\"mcq\": \"What is a key characteristic of all organisms mentioned in the text?\",\\n\"options\": {\\n\"a\": \"They are made up of rocks\",\\n\"b\": \"They can\\'t regulate their internal environments\",\\n\"c\": \"They are able to regulate their own internal environments\",\\n\"d\": \"They don\\'t have genes\"\\n},\\n\"correct\": \"c\"\\n},\\n\"5\": {\\n\"mcq\": \"What is the diversity of life on Earth attributed to?\",\\n\"options\": {\\n\"a\": \"The number of planets in the solar system\",\\n\"b\": \"The various forms of life, from prokaryotic to eukaryotic organisms\",\\n\"c\": \"The amount of water on Earth\",\\n\"d\": \"The temperature of the sun\"\\n},\\n\"correct\": \"b\"\\n}\\n}',\n",
       " 'review': 'The complexity of the quiz is appropriate for biology students. The questions are clear and test fundamental concepts in biology. However, the tone could be more engaging and student-friendly to enhance comprehension. For example, \"What is biology?\" could be rephrased as \"What does biology study?\" to better align with student abilities.'}"
      ]
     },
     "execution_count": 22,
     "metadata": {},
     "output_type": "execute_result"
    }
   ],
   "source": [
    "response"
   ]
  },
  {
   "cell_type": "code",
   "execution_count": 23,
   "metadata": {},
   "outputs": [],
   "source": [
    "quiz=response.get('quiz')"
   ]
  },
  {
   "cell_type": "code",
   "execution_count": 24,
   "metadata": {},
   "outputs": [
    {
     "data": {
      "text/plain": [
       "'{\\n\"1\": {\\n\"mcq\": \"What is biology?\",\\n\"options\": {\\n\"a\": \"The study of rocks\",\\n\"b\": \"The scientific study of life\",\\n\"c\": \"The study of outer space\",\\n\"d\": \"The study of economics\"\\n},\\n\"correct\": \"b\"\\n},\\n\"2\": {\\n\"mcq\": \"Which theme in biology explains the unity and diversity of life?\",\\n\"options\": {\\n\"a\": \"Evolution\",\\n\"b\": \"Chemistry\",\\n\"c\": \"Physics\",\\n\"d\": \"Genetics\"\\n},\\n\"correct\": \"a\"\\n},\\n\"3\": {\\n\"mcq\": \"What is the importance of energy processing in organisms?\",\\n\"options\": {\\n\"a\": \"It allows organisms to communicate\",\\n\"b\": \"It allows organisms to move, grow, and reproduce\",\\n\"c\": \"It allows organisms to fly\",\\n\"d\": \"It allows organisms to hibernate\"\\n},\\n\"correct\": \"b\"\\n},\\n\"4\": {\\n\"mcq\": \"What is a key characteristic of all organisms mentioned in the text?\",\\n\"options\": {\\n\"a\": \"They are made up of rocks\",\\n\"b\": \"They can\\'t regulate their internal environments\",\\n\"c\": \"They are able to regulate their own internal environments\",\\n\"d\": \"They don\\'t have genes\"\\n},\\n\"correct\": \"c\"\\n},\\n\"5\": {\\n\"mcq\": \"What is the diversity of life on Earth attributed to?\",\\n\"options\": {\\n\"a\": \"The number of planets in the solar system\",\\n\"b\": \"The various forms of life, from prokaryotic to eukaryotic organisms\",\\n\"c\": \"The amount of water on Earth\",\\n\"d\": \"The temperature of the sun\"\\n},\\n\"correct\": \"b\"\\n}\\n}'"
      ]
     },
     "execution_count": 24,
     "metadata": {},
     "output_type": "execute_result"
    }
   ],
   "source": [
    "quiz"
   ]
  },
  {
   "cell_type": "code",
   "execution_count": 25,
   "metadata": {},
   "outputs": [],
   "source": [
    "quiz=json.loads(quiz)"
   ]
  },
  {
   "cell_type": "code",
   "execution_count": 26,
   "metadata": {},
   "outputs": [
    {
     "data": {
      "text/plain": [
       "{'1': {'mcq': 'What is biology?',\n",
       "  'options': {'a': 'The study of rocks',\n",
       "   'b': 'The scientific study of life',\n",
       "   'c': 'The study of outer space',\n",
       "   'd': 'The study of economics'},\n",
       "  'correct': 'b'},\n",
       " '2': {'mcq': 'Which theme in biology explains the unity and diversity of life?',\n",
       "  'options': {'a': 'Evolution',\n",
       "   'b': 'Chemistry',\n",
       "   'c': 'Physics',\n",
       "   'd': 'Genetics'},\n",
       "  'correct': 'a'},\n",
       " '3': {'mcq': 'What is the importance of energy processing in organisms?',\n",
       "  'options': {'a': 'It allows organisms to communicate',\n",
       "   'b': 'It allows organisms to move, grow, and reproduce',\n",
       "   'c': 'It allows organisms to fly',\n",
       "   'd': 'It allows organisms to hibernate'},\n",
       "  'correct': 'b'},\n",
       " '4': {'mcq': 'What is a key characteristic of all organisms mentioned in the text?',\n",
       "  'options': {'a': 'They are made up of rocks',\n",
       "   'b': \"They can't regulate their internal environments\",\n",
       "   'c': 'They are able to regulate their own internal environments',\n",
       "   'd': \"They don't have genes\"},\n",
       "  'correct': 'c'},\n",
       " '5': {'mcq': 'What is the diversity of life on Earth attributed to?',\n",
       "  'options': {'a': 'The number of planets in the solar system',\n",
       "   'b': 'The various forms of life, from prokaryotic to eukaryotic organisms',\n",
       "   'c': 'The amount of water on Earth',\n",
       "   'd': 'The temperature of the sun'},\n",
       "  'correct': 'b'}}"
      ]
     },
     "execution_count": 26,
     "metadata": {},
     "output_type": "execute_result"
    }
   ],
   "source": [
    "quiz"
   ]
  },
  {
   "cell_type": "code",
   "execution_count": 27,
   "metadata": {},
   "outputs": [],
   "source": [
    "quiz_data=[]\n",
    "\n",
    "for key,value in quiz.items():\n",
    "    mcq=value['mcq']\n",
    "    options=\" | \".join(\n",
    "        [\n",
    "             f\"{option}: {option_value}\"\n",
    "            for option, option_value in value[\"options\"].items()\n",
    "        ]\n",
    "    )\n",
    "    correct_value=value['correct']\n",
    "    quiz_data.append({\n",
    "        \"MCQ\":mcq ,\n",
    "        \"CHOICES\":options, \n",
    "        \"CORRECT ANSWER\":correct_value\n",
    "                      })"
   ]
  },
  {
   "cell_type": "code",
   "execution_count": 28,
   "metadata": {},
   "outputs": [
    {
     "data": {
      "text/plain": [
       "[{'MCQ': 'What is biology?',\n",
       "  'CHOICES': 'a: The study of rocks | b: The scientific study of life | c: The study of outer space | d: The study of economics',\n",
       "  'CORRECT ANSWER': 'b'},\n",
       " {'MCQ': 'Which theme in biology explains the unity and diversity of life?',\n",
       "  'CHOICES': 'a: Evolution | b: Chemistry | c: Physics | d: Genetics',\n",
       "  'CORRECT ANSWER': 'a'},\n",
       " {'MCQ': 'What is the importance of energy processing in organisms?',\n",
       "  'CHOICES': 'a: It allows organisms to communicate | b: It allows organisms to move, grow, and reproduce | c: It allows organisms to fly | d: It allows organisms to hibernate',\n",
       "  'CORRECT ANSWER': 'b'},\n",
       " {'MCQ': 'What is a key characteristic of all organisms mentioned in the text?',\n",
       "  'CHOICES': \"a: They are made up of rocks | b: They can't regulate their internal environments | c: They are able to regulate their own internal environments | d: They don't have genes\",\n",
       "  'CORRECT ANSWER': 'c'},\n",
       " {'MCQ': 'What is the diversity of life on Earth attributed to?',\n",
       "  'CHOICES': 'a: The number of planets in the solar system | b: The various forms of life, from prokaryotic to eukaryotic organisms | c: The amount of water on Earth | d: The temperature of the sun',\n",
       "  'CORRECT ANSWER': 'b'}]"
      ]
     },
     "execution_count": 28,
     "metadata": {},
     "output_type": "execute_result"
    }
   ],
   "source": [
    "quiz_data"
   ]
  },
  {
   "cell_type": "code",
   "execution_count": 29,
   "metadata": {},
   "outputs": [],
   "source": [
    "import pandas as pd\n",
    "quiz=pd.DataFrame(quiz_data)"
   ]
  },
  {
   "cell_type": "code",
   "execution_count": 30,
   "metadata": {},
   "outputs": [
    {
     "data": {
      "text/html": [
       "<div>\n",
       "<style scoped>\n",
       "    .dataframe tbody tr th:only-of-type {\n",
       "        vertical-align: middle;\n",
       "    }\n",
       "\n",
       "    .dataframe tbody tr th {\n",
       "        vertical-align: top;\n",
       "    }\n",
       "\n",
       "    .dataframe thead th {\n",
       "        text-align: right;\n",
       "    }\n",
       "</style>\n",
       "<table border=\"1\" class=\"dataframe\">\n",
       "  <thead>\n",
       "    <tr style=\"text-align: right;\">\n",
       "      <th></th>\n",
       "      <th>MCQ</th>\n",
       "      <th>CHOICES</th>\n",
       "      <th>CORRECT ANSWER</th>\n",
       "    </tr>\n",
       "  </thead>\n",
       "  <tbody>\n",
       "    <tr>\n",
       "      <th>0</th>\n",
       "      <td>What is biology?</td>\n",
       "      <td>a: The study of rocks | b: The scientific stud...</td>\n",
       "      <td>b</td>\n",
       "    </tr>\n",
       "    <tr>\n",
       "      <th>1</th>\n",
       "      <td>Which theme in biology explains the unity and ...</td>\n",
       "      <td>a: Evolution | b: Chemistry | c: Physics | d: ...</td>\n",
       "      <td>a</td>\n",
       "    </tr>\n",
       "    <tr>\n",
       "      <th>2</th>\n",
       "      <td>What is the importance of energy processing in...</td>\n",
       "      <td>a: It allows organisms to communicate | b: It ...</td>\n",
       "      <td>b</td>\n",
       "    </tr>\n",
       "    <tr>\n",
       "      <th>3</th>\n",
       "      <td>What is a key characteristic of all organisms ...</td>\n",
       "      <td>a: They are made up of rocks | b: They can't r...</td>\n",
       "      <td>c</td>\n",
       "    </tr>\n",
       "    <tr>\n",
       "      <th>4</th>\n",
       "      <td>What is the diversity of life on Earth attribu...</td>\n",
       "      <td>a: The number of planets in the solar system |...</td>\n",
       "      <td>b</td>\n",
       "    </tr>\n",
       "  </tbody>\n",
       "</table>\n",
       "</div>"
      ],
      "text/plain": [
       "                                                 MCQ  \\\n",
       "0                                   What is biology?   \n",
       "1  Which theme in biology explains the unity and ...   \n",
       "2  What is the importance of energy processing in...   \n",
       "3  What is a key characteristic of all organisms ...   \n",
       "4  What is the diversity of life on Earth attribu...   \n",
       "\n",
       "                                             CHOICES CORRECT ANSWER  \n",
       "0  a: The study of rocks | b: The scientific stud...              b  \n",
       "1  a: Evolution | b: Chemistry | c: Physics | d: ...              a  \n",
       "2  a: It allows organisms to communicate | b: It ...              b  \n",
       "3  a: They are made up of rocks | b: They can't r...              c  \n",
       "4  a: The number of planets in the solar system |...              b  "
      ]
     },
     "execution_count": 30,
     "metadata": {},
     "output_type": "execute_result"
    }
   ],
   "source": [
    "quiz"
   ]
  },
  {
   "cell_type": "code",
   "execution_count": 31,
   "metadata": {},
   "outputs": [],
   "source": [
    "quiz.to_csv('MachineLearning.csv',index=False)"
   ]
  },
  {
   "cell_type": "code",
   "execution_count": null,
   "metadata": {},
   "outputs": [],
   "source": []
  }
 ],
 "metadata": {
  "kernelspec": {
   "display_name": "GenAI_env",
   "language": "python",
   "name": "python3"
  },
  "language_info": {
   "codemirror_mode": {
    "name": "ipython",
    "version": 3
   },
   "file_extension": ".py",
   "mimetype": "text/x-python",
   "name": "python",
   "nbconvert_exporter": "python",
   "pygments_lexer": "ipython3",
   "version": "3.10.12"
  }
 },
 "nbformat": 4,
 "nbformat_minor": 2
}
