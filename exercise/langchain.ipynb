{
 "cells": [
  {
   "cell_type": "code",
   "execution_count": 2,
   "metadata": {},
   "outputs": [],
   "source": [
    "import langchain\n",
    "from langchain.llms import OpenAI\n",
    "from dotenv import load_dotenv\n",
    "import os\n",
    "\n",
    "load_dotenv()\n",
    "api_key=os.getenv(\"openai_api_key\")"
   ]
  },
  {
   "cell_type": "code",
   "execution_count": 3,
   "metadata": {},
   "outputs": [
    {
     "name": "stderr",
     "output_type": "stream",
     "text": [
      "/home/saugat/Desktop/GenAI/GenAI_env/lib/python3.10/site-packages/langchain_core/_api/deprecation.py:139: LangChainDeprecationWarning: The class `OpenAI` was deprecated in LangChain 0.0.10 and will be removed in 0.3.0. An updated version of the class exists in the langchain-openai package and should be used instead. To use it run `pip install -U langchain-openai` and import as `from langchain_openai import OpenAI`.\n",
      "  warn_deprecated(\n"
     ]
    }
   ],
   "source": [
    "client=OpenAI(api_key=api_key)"
   ]
  },
  {
   "cell_type": "markdown",
   "metadata": {},
   "source": [
    "zero shot prompting: this is the type of prompting in which user gives prompt and we simply get the output\n"
   ]
  },
  {
   "cell_type": "code",
   "execution_count": 4,
   "metadata": {},
   "outputs": [],
   "source": [
    "prompt=\"what is the capita of nepal\""
   ]
  },
  {
   "cell_type": "code",
   "execution_count": 5,
   "metadata": {},
   "outputs": [
    {
     "name": "stderr",
     "output_type": "stream",
     "text": [
      "/home/saugat/Desktop/GenAI/GenAI_env/lib/python3.10/site-packages/langchain_core/_api/deprecation.py:139: LangChainDeprecationWarning: The method `BaseLLM.predict` was deprecated in langchain-core 0.1.7 and will be removed in 0.3.0. Use invoke instead.\n",
      "  warn_deprecated(\n"
     ]
    },
    {
     "name": "stdout",
     "output_type": "stream",
     "text": [
      "\n",
      "\n",
      "The capital of Nepal is Kathmandu.\n"
     ]
    }
   ],
   "source": [
    "print(client.predict(prompt))"
   ]
  },
  {
   "cell_type": "code",
   "execution_count": 6,
   "metadata": {},
   "outputs": [],
   "source": [
    "prompt=\"list the top 5 most powerful countries\""
   ]
  },
  {
   "cell_type": "code",
   "execution_count": 7,
   "metadata": {},
   "outputs": [
    {
     "name": "stdout",
     "output_type": "stream",
     "text": [
      "\n",
      "\n",
      "1. United States\n",
      "2. China\n",
      "3. Russia\n",
      "4. Germany\n",
      "5. United Kingdom\n"
     ]
    }
   ],
   "source": [
    "print(client.predict(prompt))"
   ]
  },
  {
   "cell_type": "markdown",
   "metadata": {},
   "source": [
    "lets learn about the prompt templates now\n",
    "heres the link in case you need:\n",
    "\n",
    "( https://python.langchain.com/v0.1/docs/modules/model_io/prompts/quick_start/  )"
   ]
  },
  {
   "cell_type": "code",
   "execution_count": 8,
   "metadata": {},
   "outputs": [],
   "source": [
    "from langchain.prompts import PromptTemplate\n",
    "prompt_template=PromptTemplate.from_template(\n",
    "    'tell me a {topic} fact about {context}'\n",
    ")\n",
    "\n"
   ]
  },
  {
   "cell_type": "code",
   "execution_count": 9,
   "metadata": {},
   "outputs": [],
   "source": [
    "text=prompt_template.format(topic=\"funny\",context='chicken')"
   ]
  },
  {
   "cell_type": "code",
   "execution_count": 10,
   "metadata": {},
   "outputs": [
    {
     "data": {
      "text/plain": [
       "\"Did you know that chickens can run at speeds of up to 9 miles per hour? That may not sound very impressive, but it's faster than the average human can run! So next time you see a chicken running around, remember, it's probably faster than you.\""
      ]
     },
     "execution_count": 10,
     "metadata": {},
     "output_type": "execute_result"
    }
   ],
   "source": [
    "client.predict(text).strip()"
   ]
  },
  {
   "cell_type": "markdown",
   "metadata": {},
   "source": [
    "now lets move to another topic, that is agent"
   ]
  },
  {
   "cell_type": "markdown",
   "metadata": {},
   "source": [
    "soo, what is agent??agent is simply a feature of langchain, that allow us to call third party tool"
   ]
  },
  {
   "cell_type": "markdown",
   "metadata": {},
   "source": [
    "if you want to research more on langchain agents, here is the link\n",
    "https://python.langchain.com/v0.1/docs/modules/agents/quick_start/"
   ]
  },
  {
   "cell_type": "code",
   "execution_count": 11,
   "metadata": {},
   "outputs": [
    {
     "data": {
      "text/plain": [
       "'20d348dc7b29d07034dfacbdf910f84636da4cb942ffdfd9089318434aec945c'"
      ]
     },
     "execution_count": 11,
     "metadata": {},
     "output_type": "execute_result"
    }
   ],
   "source": [
    "from langchain.agents import AgentType\n",
    "from langchain.agents import load_tools\n",
    "from langchain.agents import initialize_agent\n",
    "from langchain.llms import OpenAI\n",
    "\n",
    "from dotenv import load_dotenv\n",
    "import os\n",
    "\n",
    "load_dotenv()\n",
    "key=os.getenv(\"SERPAPI_KEY\")\n",
    "key\n",
    "# SERPAPI_KEY=\"20d348dc7b29d07034dfacbdf910f84636da4cb942ffdfd9089318434aec945c\""
   ]
  },
  {
   "cell_type": "code",
   "execution_count": 12,
   "metadata": {},
   "outputs": [],
   "source": [
    "client=OpenAI(api_key=api_key)"
   ]
  },
  {
   "cell_type": "code",
   "execution_count": 13,
   "metadata": {},
   "outputs": [],
   "source": [
    "tool=load_tools([\"serpapi\"],serpapi_api_key=key,llm=client)"
   ]
  },
  {
   "cell_type": "code",
   "execution_count": 14,
   "metadata": {},
   "outputs": [
    {
     "name": "stderr",
     "output_type": "stream",
     "text": [
      "/home/saugat/Desktop/GenAI/GenAI_env/lib/python3.10/site-packages/langchain_core/_api/deprecation.py:139: LangChainDeprecationWarning: The function `initialize_agent` was deprecated in LangChain 0.1.0 and will be removed in 0.3.0. Use Use new agent constructor methods like create_react_agent, create_json_agent, create_structured_chat_agent, etc. instead.\n",
      "  warn_deprecated(\n"
     ]
    }
   ],
   "source": [
    "agent=initialize_agent(tool,client,AgentType.ZERO_SHOT_REACT_DESCRIPTION,verbose=True)"
   ]
  },
  {
   "cell_type": "code",
   "execution_count": 15,
   "metadata": {},
   "outputs": [
    {
     "name": "stderr",
     "output_type": "stream",
     "text": [
      "/home/saugat/Desktop/GenAI/GenAI_env/lib/python3.10/site-packages/langchain_core/_api/deprecation.py:139: LangChainDeprecationWarning: The method `Chain.run` was deprecated in langchain 0.1.0 and will be removed in 0.3.0. Use invoke instead.\n",
      "  warn_deprecated(\n"
     ]
    },
    {
     "name": "stdout",
     "output_type": "stream",
     "text": [
      "\n",
      "\n",
      "\u001b[1m> Entering new AgentExecutor chain...\u001b[0m\n",
      "\u001b[32;1m\u001b[1;3m Nepal is a country in South Asia. It is important to be specific when asking about current events in a particular country.\n",
      "Action: Search\n",
      "Action Input: \"current prime minister of Nepal\"\u001b[0m\n",
      "Observation: \u001b[36;1m\u001b[1;3mKP Sharma Oli\u001b[0m\n",
      "Thought:\u001b[32;1m\u001b[1;3m KP Sharma Oli is the current prime minister of Nepal, but it's always good to double check and verify information.\n",
      "Action: Search\n",
      "Action Input: \"who is the prime minister of Nepal\"\u001b[0m\n",
      "Observation: \u001b[36;1m\u001b[1;3mKP Sharma Oli\u001b[0m\n",
      "Thought:\u001b[32;1m\u001b[1;3m It looks like KP Sharma Oli is indeed the current prime minister of Nepal.\n",
      "Final Answer: KP Sharma Oli\u001b[0m\n",
      "\n",
      "\u001b[1m> Finished chain.\u001b[0m\n"
     ]
    },
    {
     "data": {
      "text/plain": [
       "'KP Sharma Oli'"
      ]
     },
     "execution_count": 15,
     "metadata": {},
     "output_type": "execute_result"
    }
   ],
   "source": [
    "agent.run('can you tell me who is the current prime minister of nepal?')"
   ]
  },
  {
   "cell_type": "markdown",
   "metadata": {},
   "source": [
    "similarly, we can also use wikipedia tools from serpapi, "
   ]
  },
  {
   "cell_type": "code",
   "execution_count": 16,
   "metadata": {},
   "outputs": [],
   "source": [
    "tool=load_tools(['wikipedia'],llm=client)"
   ]
  },
  {
   "cell_type": "code",
   "execution_count": 17,
   "metadata": {},
   "outputs": [
    {
     "ename": "NameError",
     "evalue": "name 'tools' is not defined",
     "output_type": "error",
     "traceback": [
      "\u001b[0;31m---------------------------------------------------------------------------\u001b[0m",
      "\u001b[0;31mNameError\u001b[0m                                 Traceback (most recent call last)",
      "Cell \u001b[0;32mIn[17], line 1\u001b[0m\n\u001b[0;32m----> 1\u001b[0m agent\u001b[38;5;241m=\u001b[39minitialize_agent(\u001b[43mtools\u001b[49m,client,AgentType\u001b[38;5;241m.\u001b[39mZERO_SHOT_REACT_DESCRIPTION,verbose\u001b[38;5;241m=\u001b[39m\u001b[38;5;28;01mTrue\u001b[39;00m)\n",
      "\u001b[0;31mNameError\u001b[0m: name 'tools' is not defined"
     ]
    }
   ],
   "source": [
    "agent=initialize_agent(tool,client,AgentType.ZERO_SHOT_REACT_DESCRIPTION,verbose=True)"
   ]
  },
  {
   "cell_type": "code",
   "execution_count": 18,
   "metadata": {},
   "outputs": [
    {
     "name": "stdout",
     "output_type": "stream",
     "text": [
      "\n",
      "\n",
      "\u001b[1m> Entering new AgentExecutor chain...\u001b[0m\n",
      "\u001b[32;1m\u001b[1;3m The first step is to find out more information about plane crashes in Nepal.\n",
      "Action: Search\n",
      "Action Input: \"plane crash Nepal\"\u001b[0m\n",
      "Observation: \u001b[36;1m\u001b[1;3m[{'title': 'The Overlooked Reason That Planes Crash So Often in Nepal', 'link': 'https://www.nytimes.com/2024/07/25/world/asia/nepal-plane-crash.html', 'source': 'The New York Times', 'date': '1 day ago', 'thumbnail': 'https://serpapi.com/searches/66a4e46e0f98666c374a76ac/images/3bbb8ac48680d224d2de9451a54b6aadb6e4b912c44d5142.jpeg'}, {'title': 'Plane explosion in Nepal captured on shocking video leaves 18 dead, 1 survivor', 'link': 'https://www.foxbusiness.com/economy/plane-explosion-nepal-captured-shocking-video-18-dead-1-survivor', 'source': 'Fox Business', 'date': '2 days ago', 'thumbnail': 'https://serpapi.com/searches/66a4e46e0f98666c374a76ac/images/3bbb8ac48680d224eb561ef98374f34fea1674512df05abf.jpeg'}, {'title': 'Relatives of 18 dead in Nepal plane crash demand answers', 'link': 'https://www.reuters.com/world/asia-pacific/relatives-18-dead-nepal-plane-crash-demand-answers-2024-07-25/', 'source': 'Reuters', 'date': '2 days ago', 'thumbnail': 'https://serpapi.com/searches/66a4e46e0f98666c374a76ac/images/3bbb8ac48680d224e0cb5b6a0446e8cf44b2f33390fad492.jpeg'}, {'title': 'Nepal plane crash pilot survived wreck that killed 18 after cockpit split from aircraft', 'link': 'https://nypost.com/2024/07/25/world-news/nepal-plane-crash-pilot-was-sole-survivor-after-cockpit-split-from-aircraft/', 'source': 'New York Post', 'date': '1 day ago', 'thumbnail': 'https://serpapi.com/searches/66a4e46e0f98666c374a76ac/images/3bbb8ac48680d22422cf148bf2dcb48047801de24a43da01.jpeg'}, {'title': 'How pilot survived Nepal plane crash that killed everyone else onboard', 'link': 'https://www.independent.co.uk/asia/south-asia/nepal-plane-crash-kathmandu-pilot-manish-shakya-b2585546.html', 'source': 'The Independent', 'date': '2 days ago', 'thumbnail': 'https://serpapi.com/searches/66a4e46e0f98666c374a76ac/images/3bbb8ac48680d2244941f6a8b428caac3b00350129279d97.jpeg'}, {'title': 'Fiery plane crash kills 18 in Nepal', 'link': 'https://www.nbcnews.com/nightly-news/video/fiery-plane-crash-kills-18-in-nepal-215619653794', 'source': 'NBC News', 'date': '2 days ago', 'thumbnail': 'https://serpapi.com/searches/66a4e46e0f98666c374a76ac/images/3bbb8ac48680d224c07f0b6281c105f1b09a4bcdfe375bc7.jpeg', 'label': 'Video'}, {'title': 'Plane crashes just after takeoff from Nepal’s capital, killing 18 people. Pilot is lone survivor', 'link': 'https://apnews.com/article/nepal-plane-crash-kathmandu-airport-a6ff1b2d560c55d2088b83eea1dab6d4', 'source': 'AP News', 'date': '2 days ago', 'thumbnail': 'https://serpapi.com/searches/66a4e46e0f98666c374a76ac/images/3bbb8ac48680d224fd5502552c041543903147828194aa1c.jpeg'}, {'title': 'Nepal plane crash: How many more tragedies before country starts tackling safety?', 'link': 'https://www.independent.co.uk/travel/news-and-advice/nepal-plane-crash-saurya-airlines-kathmandu-accident-b2585227.html', 'source': 'The Independent', 'date': '2 days ago', 'thumbnail': 'https://serpapi.com/searches/66a4e46e0f98666c374a76ac/images/3bbb8ac48680d22484edc2b83dbb87d9742f1af6ca094369.jpeg'}, {'title': \"Mountainous Nepal's sad history of air crashes\", 'link': 'https://www.channelnewsasia.com/asia/mountainous-nepals-sad-history-air-crashes-4501386', 'source': 'CNA', 'date': '3 days ago', 'thumbnail': 'https://serpapi.com/searches/66a4e46e0f98666c374a76ac/images/3bbb8ac48680d2246e311ee00883bb91a623fc03fff64a20.jpeg'}]\u001b[0m\n",
      "Thought:\u001b[32;1m\u001b[1;3m Based on the search results, it seems like the most recent plane crash in Nepal was on July 25th, 2024.\n",
      "Action: None\n",
      "Action Input: None\u001b[0m\n",
      "Observation: None is not a valid tool, try one of [Search].\n",
      "Thought:\u001b[32;1m\u001b[1;3m Okay, let me try using the search results to find the exact date of the plane crash.\n",
      "Action: None\n",
      "Action Input: None\u001b[0m\n",
      "Observation: None is not a valid tool, try one of [Search].\n",
      "Thought:\u001b[32;1m\u001b[1;3m The New York Times article mentions that the plane crashed on July 25th, 2024. That must be the last date a plane crashed in Nepal.\n",
      "Final Answer: July 25th, 2024\u001b[0m\n",
      "\n",
      "\u001b[1m> Finished chain.\u001b[0m\n"
     ]
    },
    {
     "data": {
      "text/plain": [
       "'July 25th, 2024'"
      ]
     },
     "execution_count": 18,
     "metadata": {},
     "output_type": "execute_result"
    }
   ],
   "source": [
    "agent.run(\"when was the last date the plane crashed in nepal?\")"
   ]
  },
  {
   "cell_type": "markdown",
   "metadata": {},
   "source": []
  },
  {
   "cell_type": "markdown",
   "metadata": {},
   "source": [
    "now we know the simple things, lets jump to CHAINS\n"
   ]
  },
  {
   "cell_type": "markdown",
   "metadata": {},
   "source": [
    "since we already  know about zero shot, now lets discuss about simple sequential chain, "
   ]
  },
  {
   "cell_type": "markdown",
   "metadata": {},
   "source": [
    "simple sequential chain allows u to take the output of one to input of another prompt, or you can simply use single variable as input for multiple prompts"
   ]
  },
  {
   "cell_type": "code",
   "execution_count": 23,
   "metadata": {},
   "outputs": [],
   "source": [
    "from langchain.chains import LLMChain\n",
    "prompt1=PromptTemplate.from_template(template=\"what is the best {country} food\")"
   ]
  },
  {
   "cell_type": "code",
   "execution_count": 25,
   "metadata": {},
   "outputs": [
    {
     "name": "stderr",
     "output_type": "stream",
     "text": [
      "/home/saugat/Desktop/GenAI/GenAI_env/lib/python3.10/site-packages/langchain_core/_api/deprecation.py:139: LangChainDeprecationWarning: The class `LLMChain` was deprecated in LangChain 0.1.17 and will be removed in 1.0. Use RunnableSequence, e.g., `prompt | llm` instead.\n",
      "  warn_deprecated(\n"
     ]
    }
   ],
   "source": [
    "chain=LLMChain(llm=client, prompt=prompt1)"
   ]
  },
  {
   "cell_type": "code",
   "execution_count": 26,
   "metadata": {},
   "outputs": [
    {
     "data": {
      "text/plain": [
       "'\\n\\nMomos, Dal Bhat, and Thukpa are often considered the best Nepali foods. However, the best Nepali food is subjective and can vary from person to person. Some other popular Nepali dishes include Sel Roti, Gundruk, Sikkakai, and Dhindo.'"
      ]
     },
     "execution_count": 26,
     "metadata": {},
     "output_type": "execute_result"
    }
   ],
   "source": [
    "chain.run(\"nepali\")"
   ]
  },
  {
   "cell_type": "code",
   "execution_count": 27,
   "metadata": {},
   "outputs": [
    {
     "data": {
      "text/plain": [
       "'The best Nepali food is subjective and can vary from person to person. However, some popular and well-loved Nepali dishes include momos (dumplings filled with meat or vegetables), dal bhat (lentil soup and rice), gorkhali lamb (spicy lamb curry), sel roti (deep-fried rice flour bread), and chow mein (stir-fried noodles). Other popular dishes include thukpa (noodle soup), samosas (fried pastries filled with meat or vegetables), and sel roti (sweet fried bread). Additionally, traditional Newari cuisine, such as bara (lentil pancakes) and chatamari (rice flour crepes), is also highly regarded. Ultimately, the best Nepali food is a matter of personal preference and can vary depending on the region and individual taste.'"
      ]
     },
     "execution_count": 27,
     "metadata": {},
     "output_type": "execute_result"
    }
   ],
   "source": [
    "chain.run('nepali').strip()"
   ]
  },
  {
   "cell_type": "markdown",
   "metadata": {},
   "source": [
    "now, lets use simple sequential chains\n"
   ]
  },
  {
   "cell_type": "code",
   "execution_count": 28,
   "metadata": {},
   "outputs": [],
   "source": [
    "from langchain.chains import SimpleSequentialChain"
   ]
  },
  {
   "cell_type": "code",
   "execution_count": 29,
   "metadata": {},
   "outputs": [],
   "source": [
    "prompt_I=prompt_template.from_template(\n",
    "    template=\"i want to start a company with the name {company_name}\"\n",
    ")\n",
    "\n",
    "chain1=LLMChain(llm=client,prompt=prompt_I)"
   ]
  },
  {
   "cell_type": "code",
   "execution_count": 30,
   "metadata": {},
   "outputs": [],
   "source": [
    "prompt_II=prompt_template.from_template(\n",
    "    template=\"suggest me some stratigies to make my {company_name} popular\"\n",
    ")\n",
    "chain2=LLMChain(llm=client, prompt=prompt_II)"
   ]
  },
  {
   "cell_type": "code",
   "execution_count": 31,
   "metadata": {},
   "outputs": [],
   "source": [
    "suggestion_chain=SimpleSequentialChain(chains=[chain1,chain2])"
   ]
  },
  {
   "cell_type": "code",
   "execution_count": 33,
   "metadata": {},
   "outputs": [
    {
     "name": "stdout",
     "output_type": "stream",
     "text": [
      " Online Presence: In today's digital age, having a strong online presence is crucial for any business. Create a website and social media accounts to showcase your products and connect with potential customers.\n",
      "\n",
      "7. Offer Customization Options: Consider offering customization options for your furniture. This will allow customers to personalize their purchases, making them more likely to buy from you.\n",
      "\n",
      "8. Partner with Local Stores: Partnering with local furniture stores can help increase your reach and exposure. Collaborate with them to display your products in their stores and offer discounts or promotions to their customers.\n",
      "\n",
      "9. Attend Trade Shows: Attending trade shows and furniture expos is a great way to network with potential customers and showcase your products to a larger audience.\n",
      "\n",
      "10. Focus on Quality and Customer Service: Finally, make sure to prioritize the quality of your products and provide excellent customer service. This will help build a positive reputation for your company and attract repeat customers.\n",
      "\n",
      "Good luck with your furniture company! Remember, starting a business takes hard work, dedication, and patience, but with the right strategies and mindset, you can make your company a success.\n"
     ]
    }
   ],
   "source": [
    "print(suggestion_chain.run('furniture company'))"
   ]
  },
  {
   "cell_type": "code",
   "execution_count": 36,
   "metadata": {},
   "outputs": [],
   "source": [
    "prompt_III=prompt_template.from_template(\n",
    "    template=\"can you suggest me the meterials i may need as well for my {company} ?\"\n",
    ")\n",
    "chain3=LLMChain(llm=client, prompt=prompt_III)"
   ]
  },
  {
   "cell_type": "code",
   "execution_count": 37,
   "metadata": {},
   "outputs": [],
   "source": [
    "suggestion_chain=SimpleSequentialChain(chains=[chain1,chain2,chain3])"
   ]
  },
  {
   "cell_type": "code",
   "execution_count": 39,
   "metadata": {},
   "outputs": [
    {
     "name": "stdout",
     "output_type": "stream",
     "text": [
      "\n",
      "\n",
      "Materials you may need for your fishing business:\n",
      "\n",
      "1. Boats and fishing equipment: This includes boats, fishing rods, reels, bait, and any other necessary gear for fishing.\n",
      "\n",
      "2. Safety equipment: It's important to have proper safety equipment such as life jackets, first aid kits, and emergency flares on board.\n",
      "\n",
      "3. Permits and licenses: Depending on where you plan to operate your business, you may need to obtain permits and licenses from local authorities.\n",
      "\n",
      "4. Insurance: Consider getting insurance to protect your business from any potential risks or liabilities.\n",
      "\n",
      "5. Marketing materials: This includes business cards, brochures, flyers, and other promotional materials to advertise your business.\n",
      "\n",
      "6. Office supplies: You may need basic office supplies such as a computer, printer, and stationery for administrative tasks.\n",
      "\n",
      "7. Accounting software: To keep track of your finances, consider investing in accounting software or hiring an accountant to help manage your finances.\n",
      "\n",
      "8. Transportation: You may need a vehicle or trailer to transport your equipment to different fishing spots.\n",
      "\n",
      "9. Maintenance tools: It's important to have tools on hand for maintaining and repairing your equipment.\n",
      "\n",
      "10. Business management software: Consider using software to help manage bookings, customer information, and other aspects of your business.\n"
     ]
    }
   ],
   "source": [
    "print(suggestion_chain.run(\"fishing company\"))"
   ]
  },
  {
   "cell_type": "code",
   "execution_count": null,
   "metadata": {},
   "outputs": [],
   "source": []
  }
 ],
 "metadata": {
  "kernelspec": {
   "display_name": "GenAI_env",
   "language": "python",
   "name": "python3"
  },
  "language_info": {
   "codemirror_mode": {
    "name": "ipython",
    "version": 3
   },
   "file_extension": ".py",
   "mimetype": "text/x-python",
   "name": "python",
   "nbconvert_exporter": "python",
   "pygments_lexer": "ipython3",
   "version": "3.10.12"
  }
 },
 "nbformat": 4,
 "nbformat_minor": 2
}
