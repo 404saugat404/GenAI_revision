{
 "cells": [
  {
   "cell_type": "code",
   "execution_count": 24,
   "metadata": {},
   "outputs": [],
   "source": [
    "import langchain\n",
    "from langchain import llms\n",
    "from langchain.llms import OpenAI\n",
    "import openai\n",
    "from langchain.chains import LLMChain"
   ]
  },
  {
   "cell_type": "code",
   "execution_count": 25,
   "metadata": {},
   "outputs": [],
   "source": [
    "from dotenv import load_dotenv\n",
    "import os\n",
    "\n",
    "api_key=os.getenv(\"openai_api_key\")"
   ]
  },
  {
   "cell_type": "code",
   "execution_count": 26,
   "metadata": {},
   "outputs": [],
   "source": [
    "client=OpenAI(api_key=api_key,temperature=1.2)"
   ]
  },
  {
   "cell_type": "code",
   "execution_count": 27,
   "metadata": {},
   "outputs": [
    {
     "data": {
      "text/plain": [
       "'\\n\\nIt is debated among football fans and experts as there is no official answer to this question. Some may argue that Lionel Messi is the best player in the world due to his impressive consistently-high performances and numerous awards and records. Others may argue that Cristiano Ronaldo, who has also won multiple awards and set records, is the best player. Some may also consider players like Neymar, Kylian Mbappe, Kevin De Bruyne, and Mohamed Salah as possible contenders for the title. Ultimately, opinions may vary and no definitive answer can be given.'"
      ]
     },
     "execution_count": 27,
     "metadata": {},
     "output_type": "execute_result"
    }
   ],
   "source": [
    "prompt=\"who is the best football player in the world?\"\n",
    "client.predict(prompt)"
   ]
  },
  {
   "cell_type": "markdown",
   "metadata": {},
   "source": [
    "Now , lets learn about Memory Buffer"
   ]
  },
  {
   "cell_type": "code",
   "execution_count": 28,
   "metadata": {},
   "outputs": [],
   "source": [
    "#lets initialize which openai model we want to use\n",
    "model=OpenAI(\n",
    "    model='print(api_key)',\n",
    "    api_key=api_key,\n",
    "    temperature=1.2\n",
    ")"
   ]
  },
  {
   "cell_type": "code",
   "execution_count": 29,
   "metadata": {},
   "outputs": [],
   "source": [
    "from langchain.prompts import PromptTemplate\n",
    "\n",
    "prompt1=PromptTemplate(\n",
    "    input_variables=[\"product\"],\n",
    "    template=\"suggest me a name for a company that makes {product}\"\n",
    ")"
   ]
  },
  {
   "cell_type": "code",
   "execution_count": 30,
   "metadata": {},
   "outputs": [],
   "source": [
    "a=prompt1.format(product=\"food\")"
   ]
  },
  {
   "cell_type": "code",
   "execution_count": 32,
   "metadata": {},
   "outputs": [
    {
     "name": "stdout",
     "output_type": "stream",
     "text": [
      "\n",
      "\n",
      "\"Fresh Harvest Co.\"\n"
     ]
    }
   ],
   "source": [
    "print(client.predict(a))"
   ]
  },
  {
   "cell_type": "code",
   "execution_count": 33,
   "metadata": {},
   "outputs": [
    {
     "name": "stderr",
     "output_type": "stream",
     "text": [
      "/home/saugat/Desktop/GenAI/GenAI_env/lib/python3.10/site-packages/langchain_core/_api/deprecation.py:139: LangChainDeprecationWarning: The class `LLMChain` was deprecated in LangChain 0.1.17 and will be removed in 1.0. Use RunnableSequence, e.g., `prompt | llm` instead.\n",
      "  warn_deprecated(\n",
      "/home/saugat/Desktop/GenAI/GenAI_env/lib/python3.10/site-packages/langchain_core/_api/deprecation.py:139: LangChainDeprecationWarning: The method `Chain.run` was deprecated in langchain 0.1.0 and will be removed in 0.3.0. Use invoke instead.\n",
      "  warn_deprecated(\n"
     ]
    },
    {
     "name": "stdout",
     "output_type": "stream",
     "text": [
      "\n",
      "\n",
      "\"Graphite Gurus\" \n"
     ]
    }
   ],
   "source": [
    "chain=LLMChain(llm=client, prompt=prompt1)\n",
    "print(chain.run('pencil'))"
   ]
  },
  {
   "cell_type": "code",
   "execution_count": 34,
   "metadata": {},
   "outputs": [],
   "source": [
    "prompt2=PromptTemplate(\n",
    "    input_variables=[\"product\"],\n",
    "    template=\"suggest me a name for a company that makes {product}\"\n",
    ")"
   ]
  },
  {
   "cell_type": "code",
   "execution_count": 35,
   "metadata": {},
   "outputs": [
    {
     "name": "stdout",
     "output_type": "stream",
     "text": [
      "Blue Ridge Provisions\n"
     ]
    }
   ],
   "source": [
    "chain=LLMChain(llm=client, prompt=prompt2)\n",
    "print(chain.run('meat export'))\n"
   ]
  },
  {
   "cell_type": "code",
   "execution_count": 37,
   "metadata": {},
   "outputs": [],
   "source": [
    "chain.memory"
   ]
  },
  {
   "cell_type": "markdown",
   "metadata": {},
   "source": [
    "now lets discuss about ConversationBufferMemory"
   ]
  },
  {
   "cell_type": "code",
   "execution_count": 41,
   "metadata": {},
   "outputs": [],
   "source": [
    "from langchain.memory import ConversationBufferMemory\n",
    "memory=ConversationBufferMemory()"
   ]
  },
  {
   "cell_type": "code",
   "execution_count": 43,
   "metadata": {},
   "outputs": [],
   "source": [
    "from langchain.prompts import PromptTemplate\n",
    "\n",
    "prompt3=PromptTemplate(\n",
    "    input_variables=[\"product\"],\n",
    "    template=\"suggest me a name for a company that makes {product}\"\n",
    ")"
   ]
  },
  {
   "cell_type": "code",
   "execution_count": 44,
   "metadata": {},
   "outputs": [],
   "source": [
    "chain=LLMChain(llm=client, prompt=prompt3,memory=memory)"
   ]
  },
  {
   "cell_type": "code",
   "execution_count": 45,
   "metadata": {},
   "outputs": [
    {
     "data": {
      "text/plain": [
       "'\\n\\nRainbowWrite Pencils '"
      ]
     },
     "execution_count": 45,
     "metadata": {},
     "output_type": "execute_result"
    }
   ],
   "source": [
    "chain.run(\"colorful pencils\")"
   ]
  },
  {
   "cell_type": "code",
   "execution_count": 46,
   "metadata": {},
   "outputs": [
    {
     "data": {
      "text/plain": [
       "'\\n\\nColorful Bento Co.'"
      ]
     },
     "execution_count": 46,
     "metadata": {},
     "output_type": "execute_result"
    }
   ],
   "source": [
    "chain.run(\"colorful lunchbox\")"
   ]
  },
  {
   "cell_type": "code",
   "execution_count": 51,
   "metadata": {},
   "outputs": [
    {
     "name": "stdout",
     "output_type": "stream",
     "text": [
      "chat_memory=InMemoryChatMessageHistory(messages=[HumanMessage(content='colorful pencils'), AIMessage(content='\\n\\nRainbowWrite Pencils '), HumanMessage(content='colorful lunchbox'), AIMessage(content='\\n\\nColorful Bento Co.')])\n"
     ]
    }
   ],
   "source": [
    "print(chain.memory)"
   ]
  },
  {
   "cell_type": "code",
   "execution_count": 53,
   "metadata": {},
   "outputs": [
    {
     "name": "stdout",
     "output_type": "stream",
     "text": [
      "Human: colorful pencils\n",
      "AI: \n",
      "\n",
      "RainbowWrite Pencils \n",
      "Human: colorful lunchbox\n",
      "AI: \n",
      "\n",
      "Colorful Bento Co.\n"
     ]
    }
   ],
   "source": [
    "print(chain.memory.buffer)"
   ]
  },
  {
   "cell_type": "markdown",
   "metadata": {},
   "source": [
    "hence , we can use conversation buffer memory to use memory to store previous convorsation information"
   ]
  },
  {
   "cell_type": "code",
   "execution_count": null,
   "metadata": {},
   "outputs": [],
   "source": []
  },
  {
   "cell_type": "markdown",
   "metadata": {},
   "source": [
    "Now lets learn about ConversationChain\n"
   ]
  },
  {
   "cell_type": "code",
   "execution_count": 54,
   "metadata": {},
   "outputs": [
    {
     "name": "stdout",
     "output_type": "stream",
     "text": [
      "The following is a friendly conversation between a human and an AI. The AI is talkative and provides lots of specific details from its context. If the AI does not know the answer to a question, it truthfully says it does not know.\n",
      "\n",
      "Current conversation:\n",
      "{history}\n",
      "Human: {input}\n",
      "AI:\n"
     ]
    }
   ],
   "source": [
    "from langchain.chains import ConversationChain\n",
    "\n",
    "convo=ConversationChain(llm=client)\n",
    "print(convo.prompt.template)"
   ]
  },
  {
   "cell_type": "code",
   "execution_count": 55,
   "metadata": {},
   "outputs": [
    {
     "data": {
      "text/plain": [
       "' The first FIFA World Cup was held in 1930 in Uruguay, and it was won by the host nation. Uruguay defeated Argentina 4-2 in the final. The competition featured 13 national teams and was watched by crowds of over 80,000 people. Since then, the World Cup has been held every four years, with the exception of 1942 and 1946 due to World War II.'"
      ]
     },
     "execution_count": 55,
     "metadata": {},
     "output_type": "execute_result"
    }
   ],
   "source": [
    "convo.run(\"who won the first world cup of football?\")"
   ]
  },
  {
   "cell_type": "code",
   "execution_count": 56,
   "metadata": {},
   "outputs": [
    {
     "data": {
      "text/plain": [
       "'  2+2 is equal to 4. This is a basic arithmetic equation that follows the order of operations, with addition being performed first, followed by multiplication. The concept of addition has been around since ancient times, and the symbol \"+\" first appeared in 1489 in Germany. The number 2 is a natural number and the smallest prime number. The number 4 is a composite number, meaning that it is divisible by other numbers besides 1 and itself.'"
      ]
     },
     "execution_count": 56,
     "metadata": {},
     "output_type": "execute_result"
    }
   ],
   "source": [
    "convo.run(\"what is 2+2\")"
   ]
  },
  {
   "cell_type": "code",
   "execution_count": 58,
   "metadata": {},
   "outputs": [
    {
     "data": {
      "text/plain": [
       "' The movie you are referring to is called \"Stuart Little.\" It was released in 1999 and is a live-action/animated comedy film based on the children\\'s book of the same name. In the film, a couple adopts a talking mouse, Stuart, into their family. The film was a box office success, grossing over $300 million worldwide. It also spawned two sequels and a short-lived TV series.'"
      ]
     },
     "execution_count": 58,
     "metadata": {},
     "output_type": "execute_result"
    }
   ],
   "source": [
    "convo.run(\"whats the movie where parents adopt mouse as their son?\")"
   ]
  },
  {
   "cell_type": "code",
   "execution_count": 59,
   "metadata": {},
   "outputs": [
    {
     "data": {
      "text/plain": [
       "' I do not have enough context to accurately answer your question. Can you provide me with more information regarding which team, sport, or event you are referring to?'"
      ]
     },
     "execution_count": 59,
     "metadata": {},
     "output_type": "execute_result"
    }
   ],
   "source": [
    "convo.run(\"who was the team captain and who scored the first goal?\")"
   ]
  },
  {
   "cell_type": "code",
   "execution_count": 60,
   "metadata": {},
   "outputs": [
    {
     "data": {
      "text/plain": [
       "' As I mentioned earlier, the first World Cup of Football was won by the host nation, Uruguay, in 1930. The team captain was Obdulio Varela and they defeated Argentina 4-2 in the final. Varela is considered a legend of Uruguayan football and is known for his leadership and physicality on the field.'"
      ]
     },
     "execution_count": 60,
     "metadata": {},
     "output_type": "execute_result"
    }
   ],
   "source": [
    "convo.run(\"who was the captain of the winning team?\")"
   ]
  },
  {
   "cell_type": "code",
   "execution_count": 61,
   "metadata": {},
   "outputs": [
    {
     "name": "stdout",
     "output_type": "stream",
     "text": [
      "Human: who won the first world cup of football?\n",
      "AI:  The first FIFA World Cup was held in 1930 in Uruguay, and it was won by the host nation. Uruguay defeated Argentina 4-2 in the final. The competition featured 13 national teams and was watched by crowds of over 80,000 people. Since then, the World Cup has been held every four years, with the exception of 1942 and 1946 due to World War II.\n",
      "Human: what is 2+2\n",
      "AI:   2+2 is equal to 4. This is a basic arithmetic equation that follows the order of operations, with addition being performed first, followed by multiplication. The concept of addition has been around since ancient times, and the symbol \"+\" first appeared in 1489 in Germany. The number 2 is a natural number and the smallest prime number. The number 4 is a composite number, meaning that it is divisible by other numbers besides 1 and itself.\n",
      "Human: whats the movie where parents adopt mouse as their son?\n",
      "AI:  The movie you are referring to is called \"Stuart Little.\" It was released in 1999 and is a live-action/animated comedy film based on the children's book of the same name. In the film, a couple adopts a talking mouse, Stuart, into their family. The film was a box office success, grossing over $300 million worldwide. It also spawned two sequels and a short-lived TV series.\n",
      "Human: who was the team captain and who scored the first goal?\n",
      "AI:  I do not have enough context to accurately answer your question. Can you provide me with more information regarding which team, sport, or event you are referring to?\n",
      "Human: who was the captain of the winning team?\n",
      "AI:  As I mentioned earlier, the first World Cup of Football was won by the host nation, Uruguay, in 1930. The team captain was Obdulio Varela and they defeated Argentina 4-2 in the final. Varela is considered a legend of Uruguayan football and is known for his leadership and physicality on the field.\n"
     ]
    }
   ],
   "source": [
    "print(convo.memory.buffer)"
   ]
  },
  {
   "cell_type": "markdown",
   "metadata": {},
   "source": [
    "this is good, but if we dont put limit on memory size, then we may be at disadvantage in future"
   ]
  },
  {
   "cell_type": "code",
   "execution_count": null,
   "metadata": {},
   "outputs": [],
   "source": []
  }
 ],
 "metadata": {
  "kernelspec": {
   "display_name": "GenAI_env",
   "language": "python",
   "name": "python3"
  },
  "language_info": {
   "codemirror_mode": {
    "name": "ipython",
    "version": 3
   },
   "file_extension": ".py",
   "mimetype": "text/x-python",
   "name": "python",
   "nbconvert_exporter": "python",
   "pygments_lexer": "ipython3",
   "version": "3.10.12"
  }
 },
 "nbformat": 4,
 "nbformat_minor": 2
}
