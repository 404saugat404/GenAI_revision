{
 "cells": [
  {
   "cell_type": "code",
   "execution_count": 1,
   "metadata": {},
   "outputs": [
    {
     "name": "stdout",
     "output_type": "stream",
     "text": [
      "Requirement already satisfied: chromadb in /home/saugat/Desktop/GenAI/GenAI_env/lib/python3.10/site-packages (0.5.5)\n",
      "Requirement already satisfied: langchain in /home/saugat/Desktop/GenAI/GenAI_env/lib/python3.10/site-packages (0.2.11)\n",
      "Requirement already satisfied: openai in /home/saugat/Desktop/GenAI/GenAI_env/lib/python3.10/site-packages (1.37.1)\n",
      "Requirement already satisfied: tiktoken in /home/saugat/Desktop/GenAI/GenAI_env/lib/python3.10/site-packages (0.7.0)\n",
      "Requirement already satisfied: tqdm>=4.65.0 in /home/saugat/Desktop/GenAI/GenAI_env/lib/python3.10/site-packages (from chromadb) (4.66.4)\n",
      "Requirement already satisfied: orjson>=3.9.12 in /home/saugat/Desktop/GenAI/GenAI_env/lib/python3.10/site-packages (from chromadb) (3.10.6)\n",
      "Requirement already satisfied: importlib-resources in /home/saugat/Desktop/GenAI/GenAI_env/lib/python3.10/site-packages (from chromadb) (6.4.0)\n",
      "Requirement already satisfied: tenacity>=8.2.3 in /home/saugat/Desktop/GenAI/GenAI_env/lib/python3.10/site-packages (from chromadb) (8.5.0)\n",
      "Requirement already satisfied: tokenizers>=0.13.2 in /home/saugat/Desktop/GenAI/GenAI_env/lib/python3.10/site-packages (from chromadb) (0.19.1)\n",
      "Requirement already satisfied: httpx>=0.27.0 in /home/saugat/Desktop/GenAI/GenAI_env/lib/python3.10/site-packages (from chromadb) (0.27.0)\n",
      "Requirement already satisfied: numpy<2.0.0,>=1.22.5 in /home/saugat/Desktop/GenAI/GenAI_env/lib/python3.10/site-packages (from chromadb) (1.26.4)\n",
      "Requirement already satisfied: posthog>=2.4.0 in /home/saugat/Desktop/GenAI/GenAI_env/lib/python3.10/site-packages (from chromadb) (3.5.0)\n",
      "Requirement already satisfied: typer>=0.9.0 in /home/saugat/Desktop/GenAI/GenAI_env/lib/python3.10/site-packages (from chromadb) (0.12.3)\n",
      "Requirement already satisfied: build>=1.0.3 in /home/saugat/Desktop/GenAI/GenAI_env/lib/python3.10/site-packages (from chromadb) (1.2.1)\n",
      "Requirement already satisfied: opentelemetry-sdk>=1.2.0 in /home/saugat/Desktop/GenAI/GenAI_env/lib/python3.10/site-packages (from chromadb) (1.26.0)\n",
      "Requirement already satisfied: bcrypt>=4.0.1 in /home/saugat/Desktop/GenAI/GenAI_env/lib/python3.10/site-packages (from chromadb) (4.2.0)\n",
      "Requirement already satisfied: opentelemetry-exporter-otlp-proto-grpc>=1.2.0 in /home/saugat/Desktop/GenAI/GenAI_env/lib/python3.10/site-packages (from chromadb) (1.26.0)\n",
      "Requirement already satisfied: pypika>=0.48.9 in /home/saugat/Desktop/GenAI/GenAI_env/lib/python3.10/site-packages (from chromadb) (0.48.9)\n",
      "Requirement already satisfied: mmh3>=4.0.1 in /home/saugat/Desktop/GenAI/GenAI_env/lib/python3.10/site-packages (from chromadb) (4.1.0)\n",
      "Requirement already satisfied: PyYAML>=6.0.0 in /home/saugat/Desktop/GenAI/GenAI_env/lib/python3.10/site-packages (from chromadb) (6.0.1)\n",
      "Requirement already satisfied: onnxruntime>=1.14.1 in /home/saugat/Desktop/GenAI/GenAI_env/lib/python3.10/site-packages (from chromadb) (1.18.1)\n",
      "Requirement already satisfied: fastapi>=0.95.2 in /home/saugat/Desktop/GenAI/GenAI_env/lib/python3.10/site-packages (from chromadb) (0.112.0)\n",
      "Requirement already satisfied: opentelemetry-api>=1.2.0 in /home/saugat/Desktop/GenAI/GenAI_env/lib/python3.10/site-packages (from chromadb) (1.26.0)\n",
      "Requirement already satisfied: opentelemetry-instrumentation-fastapi>=0.41b0 in /home/saugat/Desktop/GenAI/GenAI_env/lib/python3.10/site-packages (from chromadb) (0.47b0)\n",
      "Requirement already satisfied: chroma-hnswlib==0.7.6 in /home/saugat/Desktop/GenAI/GenAI_env/lib/python3.10/site-packages (from chromadb) (0.7.6)\n",
      "Requirement already satisfied: overrides>=7.3.1 in /home/saugat/Desktop/GenAI/GenAI_env/lib/python3.10/site-packages (from chromadb) (7.7.0)\n",
      "Requirement already satisfied: kubernetes>=28.1.0 in /home/saugat/Desktop/GenAI/GenAI_env/lib/python3.10/site-packages (from chromadb) (30.1.0)\n",
      "Requirement already satisfied: grpcio>=1.58.0 in /home/saugat/Desktop/GenAI/GenAI_env/lib/python3.10/site-packages (from chromadb) (1.65.2)\n",
      "Requirement already satisfied: pydantic>=1.9 in /home/saugat/Desktop/GenAI/GenAI_env/lib/python3.10/site-packages (from chromadb) (2.8.2)\n",
      "Requirement already satisfied: uvicorn[standard]>=0.18.3 in /home/saugat/Desktop/GenAI/GenAI_env/lib/python3.10/site-packages (from chromadb) (0.30.5)\n",
      "Requirement already satisfied: typing-extensions>=4.5.0 in /home/saugat/Desktop/GenAI/GenAI_env/lib/python3.10/site-packages (from chromadb) (4.12.2)\n",
      "Requirement already satisfied: langchain-core<0.3.0,>=0.2.23 in /home/saugat/Desktop/GenAI/GenAI_env/lib/python3.10/site-packages (from langchain) (0.2.26)\n",
      "Requirement already satisfied: async-timeout<5.0.0,>=4.0.0 in /home/saugat/Desktop/GenAI/GenAI_env/lib/python3.10/site-packages (from langchain) (4.0.3)\n",
      "Requirement already satisfied: langchain-text-splitters<0.3.0,>=0.2.0 in /home/saugat/Desktop/GenAI/GenAI_env/lib/python3.10/site-packages (from langchain) (0.2.2)\n",
      "Requirement already satisfied: SQLAlchemy<3,>=1.4 in /home/saugat/Desktop/GenAI/GenAI_env/lib/python3.10/site-packages (from langchain) (2.0.31)\n",
      "Requirement already satisfied: langsmith<0.2.0,>=0.1.17 in /home/saugat/Desktop/GenAI/GenAI_env/lib/python3.10/site-packages (from langchain) (0.1.93)\n",
      "Requirement already satisfied: requests<3,>=2 in /home/saugat/Desktop/GenAI/GenAI_env/lib/python3.10/site-packages (from langchain) (2.32.3)\n",
      "Requirement already satisfied: aiohttp<4.0.0,>=3.8.3 in /home/saugat/Desktop/GenAI/GenAI_env/lib/python3.10/site-packages (from langchain) (3.9.5)\n",
      "Requirement already satisfied: distro<2,>=1.7.0 in /home/saugat/Desktop/GenAI/GenAI_env/lib/python3.10/site-packages (from openai) (1.9.0)\n",
      "Requirement already satisfied: sniffio in /home/saugat/Desktop/GenAI/GenAI_env/lib/python3.10/site-packages (from openai) (1.3.1)\n",
      "Requirement already satisfied: anyio<5,>=3.5.0 in /home/saugat/Desktop/GenAI/GenAI_env/lib/python3.10/site-packages (from openai) (4.4.0)\n",
      "Requirement already satisfied: regex>=2022.1.18 in /home/saugat/Desktop/GenAI/GenAI_env/lib/python3.10/site-packages (from tiktoken) (2024.7.24)\n",
      "Requirement already satisfied: multidict<7.0,>=4.5 in /home/saugat/Desktop/GenAI/GenAI_env/lib/python3.10/site-packages (from aiohttp<4.0.0,>=3.8.3->langchain) (6.0.5)\n",
      "Requirement already satisfied: aiosignal>=1.1.2 in /home/saugat/Desktop/GenAI/GenAI_env/lib/python3.10/site-packages (from aiohttp<4.0.0,>=3.8.3->langchain) (1.3.1)\n",
      "Requirement already satisfied: yarl<2.0,>=1.0 in /home/saugat/Desktop/GenAI/GenAI_env/lib/python3.10/site-packages (from aiohttp<4.0.0,>=3.8.3->langchain) (1.9.4)\n",
      "Requirement already satisfied: attrs>=17.3.0 in /home/saugat/Desktop/GenAI/GenAI_env/lib/python3.10/site-packages (from aiohttp<4.0.0,>=3.8.3->langchain) (23.2.0)\n",
      "Requirement already satisfied: frozenlist>=1.1.1 in /home/saugat/Desktop/GenAI/GenAI_env/lib/python3.10/site-packages (from aiohttp<4.0.0,>=3.8.3->langchain) (1.4.1)\n",
      "Requirement already satisfied: exceptiongroup>=1.0.2 in /home/saugat/Desktop/GenAI/GenAI_env/lib/python3.10/site-packages (from anyio<5,>=3.5.0->openai) (1.2.2)\n",
      "Requirement already satisfied: idna>=2.8 in /home/saugat/Desktop/GenAI/GenAI_env/lib/python3.10/site-packages (from anyio<5,>=3.5.0->openai) (3.7)\n",
      "Requirement already satisfied: tomli>=1.1.0 in /home/saugat/Desktop/GenAI/GenAI_env/lib/python3.10/site-packages (from build>=1.0.3->chromadb) (2.0.1)\n",
      "Requirement already satisfied: pyproject_hooks in /home/saugat/Desktop/GenAI/GenAI_env/lib/python3.10/site-packages (from build>=1.0.3->chromadb) (1.1.0)\n",
      "Requirement already satisfied: packaging>=19.1 in /home/saugat/Desktop/GenAI/GenAI_env/lib/python3.10/site-packages (from build>=1.0.3->chromadb) (24.1)\n",
      "Requirement already satisfied: starlette<0.38.0,>=0.37.2 in /home/saugat/Desktop/GenAI/GenAI_env/lib/python3.10/site-packages (from fastapi>=0.95.2->chromadb) (0.37.2)\n",
      "Requirement already satisfied: httpcore==1.* in /home/saugat/Desktop/GenAI/GenAI_env/lib/python3.10/site-packages (from httpx>=0.27.0->chromadb) (1.0.5)\n",
      "Requirement already satisfied: certifi in /home/saugat/Desktop/GenAI/GenAI_env/lib/python3.10/site-packages (from httpx>=0.27.0->chromadb) (2024.7.4)\n",
      "Requirement already satisfied: h11<0.15,>=0.13 in /home/saugat/Desktop/GenAI/GenAI_env/lib/python3.10/site-packages (from httpcore==1.*->httpx>=0.27.0->chromadb) (0.14.0)\n",
      "Requirement already satisfied: oauthlib>=3.2.2 in /home/saugat/Desktop/GenAI/GenAI_env/lib/python3.10/site-packages (from kubernetes>=28.1.0->chromadb) (3.2.2)\n",
      "Requirement already satisfied: python-dateutil>=2.5.3 in /home/saugat/Desktop/GenAI/GenAI_env/lib/python3.10/site-packages (from kubernetes>=28.1.0->chromadb) (2.9.0.post0)\n",
      "Requirement already satisfied: google-auth>=1.0.1 in /home/saugat/Desktop/GenAI/GenAI_env/lib/python3.10/site-packages (from kubernetes>=28.1.0->chromadb) (2.32.0)\n",
      "Requirement already satisfied: requests-oauthlib in /home/saugat/Desktop/GenAI/GenAI_env/lib/python3.10/site-packages (from kubernetes>=28.1.0->chromadb) (2.0.0)\n",
      "Requirement already satisfied: websocket-client!=0.40.0,!=0.41.*,!=0.42.*,>=0.32.0 in /home/saugat/Desktop/GenAI/GenAI_env/lib/python3.10/site-packages (from kubernetes>=28.1.0->chromadb) (1.8.0)\n",
      "Requirement already satisfied: urllib3>=1.24.2 in /home/saugat/Desktop/GenAI/GenAI_env/lib/python3.10/site-packages (from kubernetes>=28.1.0->chromadb) (2.2.2)\n",
      "Requirement already satisfied: six>=1.9.0 in /home/saugat/Desktop/GenAI/GenAI_env/lib/python3.10/site-packages (from kubernetes>=28.1.0->chromadb) (1.16.0)\n",
      "Requirement already satisfied: jsonpatch<2.0,>=1.33 in /home/saugat/Desktop/GenAI/GenAI_env/lib/python3.10/site-packages (from langchain-core<0.3.0,>=0.2.23->langchain) (1.33)\n",
      "Requirement already satisfied: flatbuffers in /home/saugat/Desktop/GenAI/GenAI_env/lib/python3.10/site-packages (from onnxruntime>=1.14.1->chromadb) (24.3.25)\n",
      "Requirement already satisfied: protobuf in /home/saugat/Desktop/GenAI/GenAI_env/lib/python3.10/site-packages (from onnxruntime>=1.14.1->chromadb) (4.25.4)\n",
      "Requirement already satisfied: sympy in /home/saugat/Desktop/GenAI/GenAI_env/lib/python3.10/site-packages (from onnxruntime>=1.14.1->chromadb) (1.13.1)\n",
      "Requirement already satisfied: coloredlogs in /home/saugat/Desktop/GenAI/GenAI_env/lib/python3.10/site-packages (from onnxruntime>=1.14.1->chromadb) (15.0.1)\n",
      "Requirement already satisfied: importlib-metadata<=8.0.0,>=6.0 in /home/saugat/Desktop/GenAI/GenAI_env/lib/python3.10/site-packages (from opentelemetry-api>=1.2.0->chromadb) (8.0.0)\n",
      "Requirement already satisfied: deprecated>=1.2.6 in /home/saugat/Desktop/GenAI/GenAI_env/lib/python3.10/site-packages (from opentelemetry-api>=1.2.0->chromadb) (1.2.14)\n",
      "Requirement already satisfied: opentelemetry-exporter-otlp-proto-common==1.26.0 in /home/saugat/Desktop/GenAI/GenAI_env/lib/python3.10/site-packages (from opentelemetry-exporter-otlp-proto-grpc>=1.2.0->chromadb) (1.26.0)\n",
      "Requirement already satisfied: googleapis-common-protos~=1.52 in /home/saugat/Desktop/GenAI/GenAI_env/lib/python3.10/site-packages (from opentelemetry-exporter-otlp-proto-grpc>=1.2.0->chromadb) (1.63.2)\n",
      "Requirement already satisfied: opentelemetry-proto==1.26.0 in /home/saugat/Desktop/GenAI/GenAI_env/lib/python3.10/site-packages (from opentelemetry-exporter-otlp-proto-grpc>=1.2.0->chromadb) (1.26.0)\n",
      "Requirement already satisfied: opentelemetry-instrumentation-asgi==0.47b0 in /home/saugat/Desktop/GenAI/GenAI_env/lib/python3.10/site-packages (from opentelemetry-instrumentation-fastapi>=0.41b0->chromadb) (0.47b0)\n",
      "Requirement already satisfied: opentelemetry-util-http==0.47b0 in /home/saugat/Desktop/GenAI/GenAI_env/lib/python3.10/site-packages (from opentelemetry-instrumentation-fastapi>=0.41b0->chromadb) (0.47b0)\n",
      "Requirement already satisfied: opentelemetry-instrumentation==0.47b0 in /home/saugat/Desktop/GenAI/GenAI_env/lib/python3.10/site-packages (from opentelemetry-instrumentation-fastapi>=0.41b0->chromadb) (0.47b0)\n",
      "Requirement already satisfied: opentelemetry-semantic-conventions==0.47b0 in /home/saugat/Desktop/GenAI/GenAI_env/lib/python3.10/site-packages (from opentelemetry-instrumentation-fastapi>=0.41b0->chromadb) (0.47b0)\n",
      "Requirement already satisfied: wrapt<2.0.0,>=1.0.0 in /home/saugat/Desktop/GenAI/GenAI_env/lib/python3.10/site-packages (from opentelemetry-instrumentation==0.47b0->opentelemetry-instrumentation-fastapi>=0.41b0->chromadb) (1.16.0)\n",
      "Requirement already satisfied: setuptools>=16.0 in /home/saugat/Desktop/GenAI/GenAI_env/lib/python3.10/site-packages (from opentelemetry-instrumentation==0.47b0->opentelemetry-instrumentation-fastapi>=0.41b0->chromadb) (59.6.0)\n",
      "Requirement already satisfied: asgiref~=3.0 in /home/saugat/Desktop/GenAI/GenAI_env/lib/python3.10/site-packages (from opentelemetry-instrumentation-asgi==0.47b0->opentelemetry-instrumentation-fastapi>=0.41b0->chromadb) (3.8.1)\n",
      "Requirement already satisfied: monotonic>=1.5 in /home/saugat/Desktop/GenAI/GenAI_env/lib/python3.10/site-packages (from posthog>=2.4.0->chromadb) (1.6)\n",
      "Requirement already satisfied: backoff>=1.10.0 in /home/saugat/Desktop/GenAI/GenAI_env/lib/python3.10/site-packages (from posthog>=2.4.0->chromadb) (2.2.1)\n",
      "Requirement already satisfied: pydantic-core==2.20.1 in /home/saugat/Desktop/GenAI/GenAI_env/lib/python3.10/site-packages (from pydantic>=1.9->chromadb) (2.20.1)\n",
      "Requirement already satisfied: annotated-types>=0.4.0 in /home/saugat/Desktop/GenAI/GenAI_env/lib/python3.10/site-packages (from pydantic>=1.9->chromadb) (0.7.0)\n",
      "Requirement already satisfied: charset-normalizer<4,>=2 in /home/saugat/Desktop/GenAI/GenAI_env/lib/python3.10/site-packages (from requests<3,>=2->langchain) (3.3.2)\n",
      "Requirement already satisfied: greenlet!=0.4.17 in /home/saugat/Desktop/GenAI/GenAI_env/lib/python3.10/site-packages (from SQLAlchemy<3,>=1.4->langchain) (3.0.3)\n",
      "Requirement already satisfied: huggingface-hub<1.0,>=0.16.4 in /home/saugat/Desktop/GenAI/GenAI_env/lib/python3.10/site-packages (from tokenizers>=0.13.2->chromadb) (0.24.5)\n",
      "Requirement already satisfied: click>=8.0.0 in /home/saugat/Desktop/GenAI/GenAI_env/lib/python3.10/site-packages (from typer>=0.9.0->chromadb) (8.1.7)\n",
      "Requirement already satisfied: rich>=10.11.0 in /home/saugat/Desktop/GenAI/GenAI_env/lib/python3.10/site-packages (from typer>=0.9.0->chromadb) (13.7.1)\n",
      "Requirement already satisfied: shellingham>=1.3.0 in /home/saugat/Desktop/GenAI/GenAI_env/lib/python3.10/site-packages (from typer>=0.9.0->chromadb) (1.5.4)\n",
      "Requirement already satisfied: watchfiles>=0.13 in /home/saugat/Desktop/GenAI/GenAI_env/lib/python3.10/site-packages (from uvicorn[standard]>=0.18.3->chromadb) (0.22.0)\n",
      "Requirement already satisfied: uvloop!=0.15.0,!=0.15.1,>=0.14.0 in /home/saugat/Desktop/GenAI/GenAI_env/lib/python3.10/site-packages (from uvicorn[standard]>=0.18.3->chromadb) (0.19.0)\n",
      "Requirement already satisfied: python-dotenv>=0.13 in /home/saugat/Desktop/GenAI/GenAI_env/lib/python3.10/site-packages (from uvicorn[standard]>=0.18.3->chromadb) (1.0.1)\n",
      "Requirement already satisfied: websockets>=10.4 in /home/saugat/Desktop/GenAI/GenAI_env/lib/python3.10/site-packages (from uvicorn[standard]>=0.18.3->chromadb) (12.0)\n",
      "Requirement already satisfied: httptools>=0.5.0 in /home/saugat/Desktop/GenAI/GenAI_env/lib/python3.10/site-packages (from uvicorn[standard]>=0.18.3->chromadb) (0.6.1)\n",
      "Requirement already satisfied: cachetools<6.0,>=2.0.0 in /home/saugat/Desktop/GenAI/GenAI_env/lib/python3.10/site-packages (from google-auth>=1.0.1->kubernetes>=28.1.0->chromadb) (5.4.0)\n",
      "Requirement already satisfied: rsa<5,>=3.1.4 in /home/saugat/Desktop/GenAI/GenAI_env/lib/python3.10/site-packages (from google-auth>=1.0.1->kubernetes>=28.1.0->chromadb) (4.9)\n",
      "Requirement already satisfied: pyasn1-modules>=0.2.1 in /home/saugat/Desktop/GenAI/GenAI_env/lib/python3.10/site-packages (from google-auth>=1.0.1->kubernetes>=28.1.0->chromadb) (0.4.0)\n",
      "Requirement already satisfied: fsspec>=2023.5.0 in /home/saugat/Desktop/GenAI/GenAI_env/lib/python3.10/site-packages (from huggingface-hub<1.0,>=0.16.4->tokenizers>=0.13.2->chromadb) (2024.6.1)\n",
      "Requirement already satisfied: filelock in /home/saugat/Desktop/GenAI/GenAI_env/lib/python3.10/site-packages (from huggingface-hub<1.0,>=0.16.4->tokenizers>=0.13.2->chromadb) (3.15.4)\n",
      "Requirement already satisfied: zipp>=0.5 in /home/saugat/Desktop/GenAI/GenAI_env/lib/python3.10/site-packages (from importlib-metadata<=8.0.0,>=6.0->opentelemetry-api>=1.2.0->chromadb) (3.19.2)\n",
      "Requirement already satisfied: jsonpointer>=1.9 in /home/saugat/Desktop/GenAI/GenAI_env/lib/python3.10/site-packages (from jsonpatch<2.0,>=1.33->langchain-core<0.3.0,>=0.2.23->langchain) (3.0.0)\n",
      "Requirement already satisfied: pygments<3.0.0,>=2.13.0 in /home/saugat/Desktop/GenAI/GenAI_env/lib/python3.10/site-packages (from rich>=10.11.0->typer>=0.9.0->chromadb) (2.18.0)\n",
      "Requirement already satisfied: markdown-it-py>=2.2.0 in /home/saugat/Desktop/GenAI/GenAI_env/lib/python3.10/site-packages (from rich>=10.11.0->typer>=0.9.0->chromadb) (3.0.0)\n",
      "Requirement already satisfied: humanfriendly>=9.1 in /home/saugat/Desktop/GenAI/GenAI_env/lib/python3.10/site-packages (from coloredlogs->onnxruntime>=1.14.1->chromadb) (10.0)\n",
      "Requirement already satisfied: mpmath<1.4,>=1.1.0 in /home/saugat/Desktop/GenAI/GenAI_env/lib/python3.10/site-packages (from sympy->onnxruntime>=1.14.1->chromadb) (1.3.0)\n",
      "Requirement already satisfied: mdurl~=0.1 in /home/saugat/Desktop/GenAI/GenAI_env/lib/python3.10/site-packages (from markdown-it-py>=2.2.0->rich>=10.11.0->typer>=0.9.0->chromadb) (0.1.2)\n",
      "Requirement already satisfied: pyasn1<0.7.0,>=0.4.6 in /home/saugat/Desktop/GenAI/GenAI_env/lib/python3.10/site-packages (from pyasn1-modules>=0.2.1->google-auth>=1.0.1->kubernetes>=28.1.0->chromadb) (0.6.0)\n"
     ]
    }
   ],
   "source": [
    "!pip install chromadb langchain openai tiktoken"
   ]
  },
  {
   "cell_type": "code",
   "execution_count": 2,
   "metadata": {},
   "outputs": [
    {
     "name": "stdout",
     "output_type": "stream",
     "text": [
      "Requirement already satisfied: chromadb in /home/saugat/Desktop/GenAI/GenAI_env/lib/python3.10/site-packages (0.5.5)\n",
      "Requirement already satisfied: bcrypt>=4.0.1 in /home/saugat/Desktop/GenAI/GenAI_env/lib/python3.10/site-packages (from chromadb) (4.2.0)\n",
      "Requirement already satisfied: build>=1.0.3 in /home/saugat/Desktop/GenAI/GenAI_env/lib/python3.10/site-packages (from chromadb) (1.2.1)\n",
      "Requirement already satisfied: onnxruntime>=1.14.1 in /home/saugat/Desktop/GenAI/GenAI_env/lib/python3.10/site-packages (from chromadb) (1.18.1)\n",
      "Requirement already satisfied: fastapi>=0.95.2 in /home/saugat/Desktop/GenAI/GenAI_env/lib/python3.10/site-packages (from chromadb) (0.112.0)\n",
      "Requirement already satisfied: httpx>=0.27.0 in /home/saugat/Desktop/GenAI/GenAI_env/lib/python3.10/site-packages (from chromadb) (0.27.0)\n",
      "Requirement already satisfied: overrides>=7.3.1 in /home/saugat/Desktop/GenAI/GenAI_env/lib/python3.10/site-packages (from chromadb) (7.7.0)\n",
      "Requirement already satisfied: pypika>=0.48.9 in /home/saugat/Desktop/GenAI/GenAI_env/lib/python3.10/site-packages (from chromadb) (0.48.9)\n",
      "Requirement already satisfied: orjson>=3.9.12 in /home/saugat/Desktop/GenAI/GenAI_env/lib/python3.10/site-packages (from chromadb) (3.10.6)\n",
      "Requirement already satisfied: typing-extensions>=4.5.0 in /home/saugat/Desktop/GenAI/GenAI_env/lib/python3.10/site-packages (from chromadb) (4.12.2)\n",
      "Requirement already satisfied: posthog>=2.4.0 in /home/saugat/Desktop/GenAI/GenAI_env/lib/python3.10/site-packages (from chromadb) (3.5.0)\n",
      "Requirement already satisfied: kubernetes>=28.1.0 in /home/saugat/Desktop/GenAI/GenAI_env/lib/python3.10/site-packages (from chromadb) (30.1.0)\n",
      "Requirement already satisfied: PyYAML>=6.0.0 in /home/saugat/Desktop/GenAI/GenAI_env/lib/python3.10/site-packages (from chromadb) (6.0.1)\n",
      "Requirement already satisfied: tqdm>=4.65.0 in /home/saugat/Desktop/GenAI/GenAI_env/lib/python3.10/site-packages (from chromadb) (4.66.4)\n",
      "Requirement already satisfied: typer>=0.9.0 in /home/saugat/Desktop/GenAI/GenAI_env/lib/python3.10/site-packages (from chromadb) (0.12.3)\n",
      "Requirement already satisfied: opentelemetry-exporter-otlp-proto-grpc>=1.2.0 in /home/saugat/Desktop/GenAI/GenAI_env/lib/python3.10/site-packages (from chromadb) (1.26.0)\n",
      "Requirement already satisfied: numpy<2.0.0,>=1.22.5 in /home/saugat/Desktop/GenAI/GenAI_env/lib/python3.10/site-packages (from chromadb) (1.26.4)\n",
      "Requirement already satisfied: opentelemetry-instrumentation-fastapi>=0.41b0 in /home/saugat/Desktop/GenAI/GenAI_env/lib/python3.10/site-packages (from chromadb) (0.47b0)\n",
      "Requirement already satisfied: importlib-resources in /home/saugat/Desktop/GenAI/GenAI_env/lib/python3.10/site-packages (from chromadb) (6.4.0)\n",
      "Requirement already satisfied: uvicorn[standard]>=0.18.3 in /home/saugat/Desktop/GenAI/GenAI_env/lib/python3.10/site-packages (from chromadb) (0.30.5)\n",
      "Requirement already satisfied: pydantic>=1.9 in /home/saugat/Desktop/GenAI/GenAI_env/lib/python3.10/site-packages (from chromadb) (2.8.2)\n",
      "Requirement already satisfied: opentelemetry-api>=1.2.0 in /home/saugat/Desktop/GenAI/GenAI_env/lib/python3.10/site-packages (from chromadb) (1.26.0)\n",
      "Requirement already satisfied: chroma-hnswlib==0.7.6 in /home/saugat/Desktop/GenAI/GenAI_env/lib/python3.10/site-packages (from chromadb) (0.7.6)\n",
      "Requirement already satisfied: mmh3>=4.0.1 in /home/saugat/Desktop/GenAI/GenAI_env/lib/python3.10/site-packages (from chromadb) (4.1.0)\n",
      "Requirement already satisfied: tokenizers>=0.13.2 in /home/saugat/Desktop/GenAI/GenAI_env/lib/python3.10/site-packages (from chromadb) (0.19.1)\n",
      "Requirement already satisfied: opentelemetry-sdk>=1.2.0 in /home/saugat/Desktop/GenAI/GenAI_env/lib/python3.10/site-packages (from chromadb) (1.26.0)\n",
      "Requirement already satisfied: grpcio>=1.58.0 in /home/saugat/Desktop/GenAI/GenAI_env/lib/python3.10/site-packages (from chromadb) (1.65.2)\n",
      "Requirement already satisfied: tenacity>=8.2.3 in /home/saugat/Desktop/GenAI/GenAI_env/lib/python3.10/site-packages (from chromadb) (8.5.0)\n",
      "Requirement already satisfied: packaging>=19.1 in /home/saugat/Desktop/GenAI/GenAI_env/lib/python3.10/site-packages (from build>=1.0.3->chromadb) (24.1)\n",
      "Requirement already satisfied: tomli>=1.1.0 in /home/saugat/Desktop/GenAI/GenAI_env/lib/python3.10/site-packages (from build>=1.0.3->chromadb) (2.0.1)\n",
      "Requirement already satisfied: pyproject_hooks in /home/saugat/Desktop/GenAI/GenAI_env/lib/python3.10/site-packages (from build>=1.0.3->chromadb) (1.1.0)\n",
      "Requirement already satisfied: starlette<0.38.0,>=0.37.2 in /home/saugat/Desktop/GenAI/GenAI_env/lib/python3.10/site-packages (from fastapi>=0.95.2->chromadb) (0.37.2)\n",
      "Requirement already satisfied: httpcore==1.* in /home/saugat/Desktop/GenAI/GenAI_env/lib/python3.10/site-packages (from httpx>=0.27.0->chromadb) (1.0.5)\n",
      "Requirement already satisfied: certifi in /home/saugat/Desktop/GenAI/GenAI_env/lib/python3.10/site-packages (from httpx>=0.27.0->chromadb) (2024.7.4)\n",
      "Requirement already satisfied: sniffio in /home/saugat/Desktop/GenAI/GenAI_env/lib/python3.10/site-packages (from httpx>=0.27.0->chromadb) (1.3.1)\n",
      "Requirement already satisfied: idna in /home/saugat/Desktop/GenAI/GenAI_env/lib/python3.10/site-packages (from httpx>=0.27.0->chromadb) (3.7)\n",
      "Requirement already satisfied: anyio in /home/saugat/Desktop/GenAI/GenAI_env/lib/python3.10/site-packages (from httpx>=0.27.0->chromadb) (4.4.0)\n",
      "Requirement already satisfied: h11<0.15,>=0.13 in /home/saugat/Desktop/GenAI/GenAI_env/lib/python3.10/site-packages (from httpcore==1.*->httpx>=0.27.0->chromadb) (0.14.0)\n",
      "Requirement already satisfied: python-dateutil>=2.5.3 in /home/saugat/Desktop/GenAI/GenAI_env/lib/python3.10/site-packages (from kubernetes>=28.1.0->chromadb) (2.9.0.post0)\n",
      "Requirement already satisfied: websocket-client!=0.40.0,!=0.41.*,!=0.42.*,>=0.32.0 in /home/saugat/Desktop/GenAI/GenAI_env/lib/python3.10/site-packages (from kubernetes>=28.1.0->chromadb) (1.8.0)\n",
      "Requirement already satisfied: google-auth>=1.0.1 in /home/saugat/Desktop/GenAI/GenAI_env/lib/python3.10/site-packages (from kubernetes>=28.1.0->chromadb) (2.32.0)\n",
      "Requirement already satisfied: six>=1.9.0 in /home/saugat/Desktop/GenAI/GenAI_env/lib/python3.10/site-packages (from kubernetes>=28.1.0->chromadb) (1.16.0)\n",
      "Requirement already satisfied: urllib3>=1.24.2 in /home/saugat/Desktop/GenAI/GenAI_env/lib/python3.10/site-packages (from kubernetes>=28.1.0->chromadb) (2.2.2)\n",
      "Requirement already satisfied: requests-oauthlib in /home/saugat/Desktop/GenAI/GenAI_env/lib/python3.10/site-packages (from kubernetes>=28.1.0->chromadb) (2.0.0)\n",
      "Requirement already satisfied: oauthlib>=3.2.2 in /home/saugat/Desktop/GenAI/GenAI_env/lib/python3.10/site-packages (from kubernetes>=28.1.0->chromadb) (3.2.2)\n",
      "Requirement already satisfied: requests in /home/saugat/Desktop/GenAI/GenAI_env/lib/python3.10/site-packages (from kubernetes>=28.1.0->chromadb) (2.32.3)\n",
      "Requirement already satisfied: flatbuffers in /home/saugat/Desktop/GenAI/GenAI_env/lib/python3.10/site-packages (from onnxruntime>=1.14.1->chromadb) (24.3.25)\n",
      "Requirement already satisfied: protobuf in /home/saugat/Desktop/GenAI/GenAI_env/lib/python3.10/site-packages (from onnxruntime>=1.14.1->chromadb) (4.25.4)\n",
      "Requirement already satisfied: sympy in /home/saugat/Desktop/GenAI/GenAI_env/lib/python3.10/site-packages (from onnxruntime>=1.14.1->chromadb) (1.13.1)\n",
      "Requirement already satisfied: coloredlogs in /home/saugat/Desktop/GenAI/GenAI_env/lib/python3.10/site-packages (from onnxruntime>=1.14.1->chromadb) (15.0.1)\n",
      "Requirement already satisfied: deprecated>=1.2.6 in /home/saugat/Desktop/GenAI/GenAI_env/lib/python3.10/site-packages (from opentelemetry-api>=1.2.0->chromadb) (1.2.14)\n",
      "Requirement already satisfied: importlib-metadata<=8.0.0,>=6.0 in /home/saugat/Desktop/GenAI/GenAI_env/lib/python3.10/site-packages (from opentelemetry-api>=1.2.0->chromadb) (8.0.0)\n",
      "Requirement already satisfied: opentelemetry-exporter-otlp-proto-common==1.26.0 in /home/saugat/Desktop/GenAI/GenAI_env/lib/python3.10/site-packages (from opentelemetry-exporter-otlp-proto-grpc>=1.2.0->chromadb) (1.26.0)\n",
      "Requirement already satisfied: googleapis-common-protos~=1.52 in /home/saugat/Desktop/GenAI/GenAI_env/lib/python3.10/site-packages (from opentelemetry-exporter-otlp-proto-grpc>=1.2.0->chromadb) (1.63.2)\n",
      "Requirement already satisfied: opentelemetry-proto==1.26.0 in /home/saugat/Desktop/GenAI/GenAI_env/lib/python3.10/site-packages (from opentelemetry-exporter-otlp-proto-grpc>=1.2.0->chromadb) (1.26.0)\n",
      "Requirement already satisfied: opentelemetry-instrumentation-asgi==0.47b0 in /home/saugat/Desktop/GenAI/GenAI_env/lib/python3.10/site-packages (from opentelemetry-instrumentation-fastapi>=0.41b0->chromadb) (0.47b0)\n",
      "Requirement already satisfied: opentelemetry-instrumentation==0.47b0 in /home/saugat/Desktop/GenAI/GenAI_env/lib/python3.10/site-packages (from opentelemetry-instrumentation-fastapi>=0.41b0->chromadb) (0.47b0)\n",
      "Requirement already satisfied: opentelemetry-util-http==0.47b0 in /home/saugat/Desktop/GenAI/GenAI_env/lib/python3.10/site-packages (from opentelemetry-instrumentation-fastapi>=0.41b0->chromadb) (0.47b0)\n",
      "Requirement already satisfied: opentelemetry-semantic-conventions==0.47b0 in /home/saugat/Desktop/GenAI/GenAI_env/lib/python3.10/site-packages (from opentelemetry-instrumentation-fastapi>=0.41b0->chromadb) (0.47b0)\n",
      "Requirement already satisfied: wrapt<2.0.0,>=1.0.0 in /home/saugat/Desktop/GenAI/GenAI_env/lib/python3.10/site-packages (from opentelemetry-instrumentation==0.47b0->opentelemetry-instrumentation-fastapi>=0.41b0->chromadb) (1.16.0)\n",
      "Requirement already satisfied: setuptools>=16.0 in /home/saugat/Desktop/GenAI/GenAI_env/lib/python3.10/site-packages (from opentelemetry-instrumentation==0.47b0->opentelemetry-instrumentation-fastapi>=0.41b0->chromadb) (59.6.0)\n",
      "Requirement already satisfied: asgiref~=3.0 in /home/saugat/Desktop/GenAI/GenAI_env/lib/python3.10/site-packages (from opentelemetry-instrumentation-asgi==0.47b0->opentelemetry-instrumentation-fastapi>=0.41b0->chromadb) (3.8.1)\n",
      "Requirement already satisfied: monotonic>=1.5 in /home/saugat/Desktop/GenAI/GenAI_env/lib/python3.10/site-packages (from posthog>=2.4.0->chromadb) (1.6)\n",
      "Requirement already satisfied: backoff>=1.10.0 in /home/saugat/Desktop/GenAI/GenAI_env/lib/python3.10/site-packages (from posthog>=2.4.0->chromadb) (2.2.1)\n",
      "Requirement already satisfied: pydantic-core==2.20.1 in /home/saugat/Desktop/GenAI/GenAI_env/lib/python3.10/site-packages (from pydantic>=1.9->chromadb) (2.20.1)\n",
      "Requirement already satisfied: annotated-types>=0.4.0 in /home/saugat/Desktop/GenAI/GenAI_env/lib/python3.10/site-packages (from pydantic>=1.9->chromadb) (0.7.0)\n",
      "Requirement already satisfied: huggingface-hub<1.0,>=0.16.4 in /home/saugat/Desktop/GenAI/GenAI_env/lib/python3.10/site-packages (from tokenizers>=0.13.2->chromadb) (0.24.5)\n",
      "Requirement already satisfied: click>=8.0.0 in /home/saugat/Desktop/GenAI/GenAI_env/lib/python3.10/site-packages (from typer>=0.9.0->chromadb) (8.1.7)\n",
      "Requirement already satisfied: rich>=10.11.0 in /home/saugat/Desktop/GenAI/GenAI_env/lib/python3.10/site-packages (from typer>=0.9.0->chromadb) (13.7.1)\n",
      "Requirement already satisfied: shellingham>=1.3.0 in /home/saugat/Desktop/GenAI/GenAI_env/lib/python3.10/site-packages (from typer>=0.9.0->chromadb) (1.5.4)\n",
      "Requirement already satisfied: watchfiles>=0.13 in /home/saugat/Desktop/GenAI/GenAI_env/lib/python3.10/site-packages (from uvicorn[standard]>=0.18.3->chromadb) (0.22.0)\n",
      "Requirement already satisfied: python-dotenv>=0.13 in /home/saugat/Desktop/GenAI/GenAI_env/lib/python3.10/site-packages (from uvicorn[standard]>=0.18.3->chromadb) (1.0.1)\n",
      "Requirement already satisfied: websockets>=10.4 in /home/saugat/Desktop/GenAI/GenAI_env/lib/python3.10/site-packages (from uvicorn[standard]>=0.18.3->chromadb) (12.0)\n",
      "Requirement already satisfied: httptools>=0.5.0 in /home/saugat/Desktop/GenAI/GenAI_env/lib/python3.10/site-packages (from uvicorn[standard]>=0.18.3->chromadb) (0.6.1)\n",
      "Requirement already satisfied: uvloop!=0.15.0,!=0.15.1,>=0.14.0 in /home/saugat/Desktop/GenAI/GenAI_env/lib/python3.10/site-packages (from uvicorn[standard]>=0.18.3->chromadb) (0.19.0)\n",
      "Requirement already satisfied: rsa<5,>=3.1.4 in /home/saugat/Desktop/GenAI/GenAI_env/lib/python3.10/site-packages (from google-auth>=1.0.1->kubernetes>=28.1.0->chromadb) (4.9)\n",
      "Requirement already satisfied: pyasn1-modules>=0.2.1 in /home/saugat/Desktop/GenAI/GenAI_env/lib/python3.10/site-packages (from google-auth>=1.0.1->kubernetes>=28.1.0->chromadb) (0.4.0)\n",
      "Requirement already satisfied: cachetools<6.0,>=2.0.0 in /home/saugat/Desktop/GenAI/GenAI_env/lib/python3.10/site-packages (from google-auth>=1.0.1->kubernetes>=28.1.0->chromadb) (5.4.0)\n",
      "Requirement already satisfied: filelock in /home/saugat/Desktop/GenAI/GenAI_env/lib/python3.10/site-packages (from huggingface-hub<1.0,>=0.16.4->tokenizers>=0.13.2->chromadb) (3.15.4)\n",
      "Requirement already satisfied: fsspec>=2023.5.0 in /home/saugat/Desktop/GenAI/GenAI_env/lib/python3.10/site-packages (from huggingface-hub<1.0,>=0.16.4->tokenizers>=0.13.2->chromadb) (2024.6.1)\n",
      "Requirement already satisfied: zipp>=0.5 in /home/saugat/Desktop/GenAI/GenAI_env/lib/python3.10/site-packages (from importlib-metadata<=8.0.0,>=6.0->opentelemetry-api>=1.2.0->chromadb) (3.19.2)\n",
      "Requirement already satisfied: charset-normalizer<4,>=2 in /home/saugat/Desktop/GenAI/GenAI_env/lib/python3.10/site-packages (from requests->kubernetes>=28.1.0->chromadb) (3.3.2)\n",
      "Requirement already satisfied: markdown-it-py>=2.2.0 in /home/saugat/Desktop/GenAI/GenAI_env/lib/python3.10/site-packages (from rich>=10.11.0->typer>=0.9.0->chromadb) (3.0.0)\n",
      "Requirement already satisfied: pygments<3.0.0,>=2.13.0 in /home/saugat/Desktop/GenAI/GenAI_env/lib/python3.10/site-packages (from rich>=10.11.0->typer>=0.9.0->chromadb) (2.18.0)\n",
      "Requirement already satisfied: exceptiongroup>=1.0.2 in /home/saugat/Desktop/GenAI/GenAI_env/lib/python3.10/site-packages (from anyio->httpx>=0.27.0->chromadb) (1.2.2)\n",
      "Requirement already satisfied: humanfriendly>=9.1 in /home/saugat/Desktop/GenAI/GenAI_env/lib/python3.10/site-packages (from coloredlogs->onnxruntime>=1.14.1->chromadb) (10.0)\n",
      "Requirement already satisfied: mpmath<1.4,>=1.1.0 in /home/saugat/Desktop/GenAI/GenAI_env/lib/python3.10/site-packages (from sympy->onnxruntime>=1.14.1->chromadb) (1.3.0)\n",
      "Requirement already satisfied: mdurl~=0.1 in /home/saugat/Desktop/GenAI/GenAI_env/lib/python3.10/site-packages (from markdown-it-py>=2.2.0->rich>=10.11.0->typer>=0.9.0->chromadb) (0.1.2)\n",
      "Requirement already satisfied: pyasn1<0.7.0,>=0.4.6 in /home/saugat/Desktop/GenAI/GenAI_env/lib/python3.10/site-packages (from pyasn1-modules>=0.2.1->google-auth>=1.0.1->kubernetes>=28.1.0->chromadb) (0.6.0)\n",
      "Note: you may need to restart the kernel to use updated packages.\n"
     ]
    }
   ],
   "source": [
    "pip install chromadb"
   ]
  },
  {
   "cell_type": "code",
   "execution_count": 3,
   "metadata": {},
   "outputs": [],
   "source": [
    "!wget -q https://www.dropbox.com/s/vs6ocyvpzzncvwh/new_articles.zip"
   ]
  },
  {
   "cell_type": "code",
   "execution_count": 4,
   "metadata": {},
   "outputs": [],
   "source": [
    "!unzip -q new_articles.zip -d new_articles"
   ]
  },
  {
   "cell_type": "code",
   "execution_count": 5,
   "metadata": {},
   "outputs": [],
   "source": [
    "from dotenv import load_dotenv\n",
    "import openai\n",
    "import os\n",
    "from langchain.llms import OpenAI\n",
    "\n",
    "load_dotenv()\n",
    "api_key=os.getenv(\"openai_api_key\")"
   ]
  },
  {
   "cell_type": "code",
   "execution_count": 6,
   "metadata": {},
   "outputs": [
    {
     "name": "stderr",
     "output_type": "stream",
     "text": [
      "/home/saugat/Desktop/GenAI/GenAI_env/lib/python3.10/site-packages/langchain_core/_api/deprecation.py:139: LangChainDeprecationWarning: The class `OpenAIEmbeddings` was deprecated in LangChain 0.0.9 and will be removed in 0.3.0. An updated version of the class exists in the langchain-openai package and should be used instead. To use it run `pip install -U langchain-openai` and import as `from langchain_openai import OpenAIEmbeddings`.\n",
      "  warn_deprecated(\n"
     ]
    }
   ],
   "source": [
    "from langchain.embeddings import OpenAIEmbeddings\n",
    "embeddings=OpenAIEmbeddings(api_key=api_key)\n"
   ]
  },
  {
   "cell_type": "code",
   "execution_count": 7,
   "metadata": {},
   "outputs": [],
   "source": [
    "from langchain.document_loaders import DirectoryLoader\n",
    "from langchain.document_loaders import TextLoader\n",
    "loader=DirectoryLoader('/home/saugat/Desktop/GenAI/RAG using genAI/chroma_db/new_articles',glob=\"./*.txt\")"
   ]
  },
  {
   "cell_type": "code",
   "execution_count": 8,
   "metadata": {},
   "outputs": [
    {
     "name": "stdout",
     "output_type": "stream",
     "text": [
      "Requirement already satisfied: unstructured in /home/saugat/Desktop/GenAI/GenAI_env/lib/python3.10/site-packages (0.15.0)\n",
      "Requirement already satisfied: python-iso639 in /home/saugat/Desktop/GenAI/GenAI_env/lib/python3.10/site-packages (from unstructured) (2024.4.27)\n",
      "Requirement already satisfied: requests in /home/saugat/Desktop/GenAI/GenAI_env/lib/python3.10/site-packages (from unstructured) (2.32.3)\n",
      "Requirement already satisfied: langdetect in /home/saugat/Desktop/GenAI/GenAI_env/lib/python3.10/site-packages (from unstructured) (1.0.9)\n",
      "Requirement already satisfied: typing-extensions in /home/saugat/Desktop/GenAI/GenAI_env/lib/python3.10/site-packages (from unstructured) (4.12.2)\n",
      "Requirement already satisfied: unstructured-client in /home/saugat/Desktop/GenAI/GenAI_env/lib/python3.10/site-packages (from unstructured) (0.25.1)\n",
      "Requirement already satisfied: tabulate in /home/saugat/Desktop/GenAI/GenAI_env/lib/python3.10/site-packages (from unstructured) (0.9.0)\n",
      "Requirement already satisfied: chardet in /home/saugat/Desktop/GenAI/GenAI_env/lib/python3.10/site-packages (from unstructured) (5.2.0)\n",
      "Requirement already satisfied: numpy<2 in /home/saugat/Desktop/GenAI/GenAI_env/lib/python3.10/site-packages (from unstructured) (1.26.4)\n",
      "Requirement already satisfied: emoji in /home/saugat/Desktop/GenAI/GenAI_env/lib/python3.10/site-packages (from unstructured) (2.12.1)\n",
      "Requirement already satisfied: filetype in /home/saugat/Desktop/GenAI/GenAI_env/lib/python3.10/site-packages (from unstructured) (1.2.0)\n",
      "Requirement already satisfied: rapidfuzz in /home/saugat/Desktop/GenAI/GenAI_env/lib/python3.10/site-packages (from unstructured) (3.9.5)\n",
      "Requirement already satisfied: wrapt in /home/saugat/Desktop/GenAI/GenAI_env/lib/python3.10/site-packages (from unstructured) (1.16.0)\n",
      "Requirement already satisfied: lxml in /home/saugat/Desktop/GenAI/GenAI_env/lib/python3.10/site-packages (from unstructured) (5.2.2)\n",
      "Requirement already satisfied: dataclasses-json in /home/saugat/Desktop/GenAI/GenAI_env/lib/python3.10/site-packages (from unstructured) (0.6.7)\n",
      "Requirement already satisfied: psutil in /home/saugat/Desktop/GenAI/GenAI_env/lib/python3.10/site-packages (from unstructured) (6.0.0)\n",
      "Requirement already satisfied: tqdm in /home/saugat/Desktop/GenAI/GenAI_env/lib/python3.10/site-packages (from unstructured) (4.66.4)\n",
      "Requirement already satisfied: backoff in /home/saugat/Desktop/GenAI/GenAI_env/lib/python3.10/site-packages (from unstructured) (2.2.1)\n",
      "Requirement already satisfied: nltk in /home/saugat/Desktop/GenAI/GenAI_env/lib/python3.10/site-packages (from unstructured) (3.8.1)\n",
      "Requirement already satisfied: python-magic in /home/saugat/Desktop/GenAI/GenAI_env/lib/python3.10/site-packages (from unstructured) (0.4.27)\n",
      "Requirement already satisfied: beautifulsoup4 in /home/saugat/Desktop/GenAI/GenAI_env/lib/python3.10/site-packages (from unstructured) (4.12.3)\n",
      "Requirement already satisfied: soupsieve>1.2 in /home/saugat/Desktop/GenAI/GenAI_env/lib/python3.10/site-packages (from beautifulsoup4->unstructured) (2.5)\n",
      "Requirement already satisfied: marshmallow<4.0.0,>=3.18.0 in /home/saugat/Desktop/GenAI/GenAI_env/lib/python3.10/site-packages (from dataclasses-json->unstructured) (3.21.3)\n",
      "Requirement already satisfied: typing-inspect<1,>=0.4.0 in /home/saugat/Desktop/GenAI/GenAI_env/lib/python3.10/site-packages (from dataclasses-json->unstructured) (0.9.0)\n",
      "Requirement already satisfied: six in /home/saugat/Desktop/GenAI/GenAI_env/lib/python3.10/site-packages (from langdetect->unstructured) (1.16.0)\n",
      "Requirement already satisfied: regex>=2021.8.3 in /home/saugat/Desktop/GenAI/GenAI_env/lib/python3.10/site-packages (from nltk->unstructured) (2024.7.24)\n",
      "Requirement already satisfied: click in /home/saugat/Desktop/GenAI/GenAI_env/lib/python3.10/site-packages (from nltk->unstructured) (8.1.7)\n",
      "Requirement already satisfied: joblib in /home/saugat/Desktop/GenAI/GenAI_env/lib/python3.10/site-packages (from nltk->unstructured) (1.4.2)\n",
      "Requirement already satisfied: idna<4,>=2.5 in /home/saugat/Desktop/GenAI/GenAI_env/lib/python3.10/site-packages (from requests->unstructured) (3.7)\n",
      "Requirement already satisfied: certifi>=2017.4.17 in /home/saugat/Desktop/GenAI/GenAI_env/lib/python3.10/site-packages (from requests->unstructured) (2024.7.4)\n",
      "Requirement already satisfied: charset-normalizer<4,>=2 in /home/saugat/Desktop/GenAI/GenAI_env/lib/python3.10/site-packages (from requests->unstructured) (3.3.2)\n",
      "Requirement already satisfied: urllib3<3,>=1.21.1 in /home/saugat/Desktop/GenAI/GenAI_env/lib/python3.10/site-packages (from requests->unstructured) (2.2.2)\n",
      "Requirement already satisfied: packaging>=23.1 in /home/saugat/Desktop/GenAI/GenAI_env/lib/python3.10/site-packages (from unstructured-client->unstructured) (24.1)\n",
      "Requirement already satisfied: requests-toolbelt>=1.0.0 in /home/saugat/Desktop/GenAI/GenAI_env/lib/python3.10/site-packages (from unstructured-client->unstructured) (1.0.0)\n",
      "Requirement already satisfied: pypdf>=4.0 in /home/saugat/Desktop/GenAI/GenAI_env/lib/python3.10/site-packages (from unstructured-client->unstructured) (4.3.1)\n",
      "Requirement already satisfied: jsonpath-python>=1.0.6 in /home/saugat/Desktop/GenAI/GenAI_env/lib/python3.10/site-packages (from unstructured-client->unstructured) (1.0.6)\n",
      "Requirement already satisfied: httpx>=0.27.0 in /home/saugat/Desktop/GenAI/GenAI_env/lib/python3.10/site-packages (from unstructured-client->unstructured) (0.27.0)\n",
      "Requirement already satisfied: python-dateutil>=2.8.2 in /home/saugat/Desktop/GenAI/GenAI_env/lib/python3.10/site-packages (from unstructured-client->unstructured) (2.9.0.post0)\n",
      "Requirement already satisfied: nest-asyncio>=1.6.0 in /home/saugat/Desktop/GenAI/GenAI_env/lib/python3.10/site-packages (from unstructured-client->unstructured) (1.6.0)\n",
      "Requirement already satisfied: mypy-extensions>=1.0.0 in /home/saugat/Desktop/GenAI/GenAI_env/lib/python3.10/site-packages (from unstructured-client->unstructured) (1.0.0)\n",
      "Requirement already satisfied: deepdiff>=6.0 in /home/saugat/Desktop/GenAI/GenAI_env/lib/python3.10/site-packages (from unstructured-client->unstructured) (7.0.1)\n",
      "Requirement already satisfied: ordered-set<4.2.0,>=4.1.0 in /home/saugat/Desktop/GenAI/GenAI_env/lib/python3.10/site-packages (from deepdiff>=6.0->unstructured-client->unstructured) (4.1.0)\n",
      "Requirement already satisfied: anyio in /home/saugat/Desktop/GenAI/GenAI_env/lib/python3.10/site-packages (from httpx>=0.27.0->unstructured-client->unstructured) (4.4.0)\n",
      "Requirement already satisfied: sniffio in /home/saugat/Desktop/GenAI/GenAI_env/lib/python3.10/site-packages (from httpx>=0.27.0->unstructured-client->unstructured) (1.3.1)\n",
      "Requirement already satisfied: httpcore==1.* in /home/saugat/Desktop/GenAI/GenAI_env/lib/python3.10/site-packages (from httpx>=0.27.0->unstructured-client->unstructured) (1.0.5)\n",
      "Requirement already satisfied: h11<0.15,>=0.13 in /home/saugat/Desktop/GenAI/GenAI_env/lib/python3.10/site-packages (from httpcore==1.*->httpx>=0.27.0->unstructured-client->unstructured) (0.14.0)\n",
      "Requirement already satisfied: exceptiongroup>=1.0.2 in /home/saugat/Desktop/GenAI/GenAI_env/lib/python3.10/site-packages (from anyio->httpx>=0.27.0->unstructured-client->unstructured) (1.2.2)\n",
      "Note: you may need to restart the kernel to use updated packages.\n"
     ]
    }
   ],
   "source": [
    "pip install unstructured #try commenting this and run everything again, you will get error in loader.load. comeback here again and repeat it"
   ]
  },
  {
   "cell_type": "code",
   "execution_count": 9,
   "metadata": {},
   "outputs": [],
   "source": [
    "docs=loader.load()"
   ]
  },
  {
   "cell_type": "code",
   "execution_count": 10,
   "metadata": {},
   "outputs": [
    {
     "data": {
      "text/plain": [
       "Document(metadata={'source': '/home/saugat/Desktop/GenAI/RAG using genAI/chroma_db/new_articles/05-03-databricks-acquires-ai-centric-data-governance-platform-okera.txt'}, page_content='Databricks today announced that it has acquired Okera, a data governance platform with a focus on AI. The two companies did not disclose the purchase price. According to Crunchbase, Okera previously raised just under $30 million. Investors include Felicis, Bessemer Venture Partners, Cyber Mentor Fund, ClearSky and Emergent Ventures.\\n\\nData governance was already a hot topic, but the recent focus on AI has highlighted some of the shortcomings of the previous approach to it, Databricks notes in today’s announcement. “Historically, data governance technologies, regardless of sophistication, rely on enforcing control at some narrow waist layer and require workloads to fit into the ‘walled garden’ at this layer,” the company explains in a blog post. That approach doesn’t work anymore in the age of large language models (LLMs) because the number of assets is growing too quickly (in part because so much of it is machine-generated) and because the overall AI landscape is changing so quickly, standard access controls aren’t able to capture these changes quickly enough.\\n\\nOkera then uses an AI-powered system that can automatically discover and classify personally identifiable information, tag it and apply rules to this (with a focus on the metadata), using a no-code interface.\\n\\nAs the Databricks team stressed, that’s one of the reasons the company was interested in acquiring Okera, but the other is the service’s isolation technology, which can enforce governance control on arbitrary workloads without any major overhead. This technology is still in private preview but was likely one of the major reasons Databricks acquired the company.\\n\\nDatabricks, which launched its own LLM a few weeks ago, plans to integrate Okera’s technology into its Unity Catalog, its existing governance solution of data and AI assets. The company also noted that the acquisition will enable Databricks to expose additional APIs that its own data governance partners will be able to use to provide solutions to their customers.\\n\\nWith this acquisition, Databricks is also bringing Okera co-founder and CEO Nong Li on board. Li created the Apache Parquet data storage format and was actually briefly an engineer at Databricks between working at Cloudera and before starting Okera, where he was the founding CTO and became the CEO in February 2022.\\n\\n“As data continues to grow in volume, velocity, and variety across different applications, CIOs, CDOs, and CEOs across the board have to balance those two often conflicting initiatives – not to mention that historically, managing access policies across multiple clouds has been painful and time-consuming,” writes Li in today’s announcement. “Many organizations don’t have enough technical talent to manage access policies at scale, especially with the explosion of LLMs. What they need is a modern, AI-centric governance solution. We could not be more excited to join the Databricks team and to bring our expertise in building secure, scalable and simple governance solutions for some of the world’s most forward-thinking enterprises.”\\n\\nIf you know more about this acquisition, you can contact Frederic on Signal at (860) 208-3416 or by email (frederic@techcrunch.com). You can also reach us via SecureDrop.')"
      ]
     },
     "execution_count": 10,
     "metadata": {},
     "output_type": "execute_result"
    }
   ],
   "source": [
    "docs[0]"
   ]
  },
  {
   "cell_type": "code",
   "execution_count": 11,
   "metadata": {},
   "outputs": [
    {
     "data": {
      "text/plain": [
       "'Databricks today announced that it has acquired Okera, a data governance platform with a focus on AI. The two companies did not disclose the purchase price. According to Crunchbase, Okera previously raised just under $30 million. Investors include Felicis, Bessemer Venture Partners, Cyber Mentor Fund, ClearSky and Emergent Ventures.\\n\\nData governance was already a hot topic, but the recent focus on AI has highlighted some of the shortcomings of the previous approach to it, Databricks notes in today’s announcement. “Historically, data governance technologies, regardless of sophistication, rely on enforcing control at some narrow waist layer and require workloads to fit into the ‘walled garden’ at this layer,” the company explains in a blog post. That approach doesn’t work anymore in the age of large language models (LLMs) because the number of assets is growing too quickly (in part because so much of it is machine-generated) and because the overall AI landscape is changing so quickly, standard access controls aren’t able to capture these changes quickly enough.\\n\\nOkera then uses an AI-powered system that can automatically discover and classify personally identifiable information, tag it and apply rules to this (with a focus on the metadata), using a no-code interface.\\n\\nAs the Databricks team stressed, that’s one of the reasons the company was interested in acquiring Okera, but the other is the service’s isolation technology, which can enforce governance control on arbitrary workloads without any major overhead. This technology is still in private preview but was likely one of the major reasons Databricks acquired the company.\\n\\nDatabricks, which launched its own LLM a few weeks ago, plans to integrate Okera’s technology into its Unity Catalog, its existing governance solution of data and AI assets. The company also noted that the acquisition will enable Databricks to expose additional APIs that its own data governance partners will be able to use to provide solutions to their customers.\\n\\nWith this acquisition, Databricks is also bringing Okera co-founder and CEO Nong Li on board. Li created the Apache Parquet data storage format and was actually briefly an engineer at Databricks between working at Cloudera and before starting Okera, where he was the founding CTO and became the CEO in February 2022.\\n\\n“As data continues to grow in volume, velocity, and variety across different applications, CIOs, CDOs, and CEOs across the board have to balance those two often conflicting initiatives – not to mention that historically, managing access policies across multiple clouds has been painful and time-consuming,” writes Li in today’s announcement. “Many organizations don’t have enough technical talent to manage access policies at scale, especially with the explosion of LLMs. What they need is a modern, AI-centric governance solution. We could not be more excited to join the Databricks team and to bring our expertise in building secure, scalable and simple governance solutions for some of the world’s most forward-thinking enterprises.”\\n\\nIf you know more about this acquisition, you can contact Frederic on Signal at (860) 208-3416 or by email (frederic@techcrunch.com). You can also reach us via SecureDrop.'"
      ]
     },
     "execution_count": 11,
     "metadata": {},
     "output_type": "execute_result"
    }
   ],
   "source": [
    "docs[0].page_content"
   ]
  },
  {
   "cell_type": "code",
   "execution_count": 12,
   "metadata": {},
   "outputs": [],
   "source": [
    "#now lets split the text\n",
    "from langchain.text_splitter import RecursiveCharacterTextSplitter\n",
    "\n",
    "text_splitter = RecursiveCharacterTextSplitter(\n",
    "    # Set a really small chunk size, just to show.\n",
    "    chunk_size=1000,\n",
    "    chunk_overlap=200\n",
    "    \n",
    ")"
   ]
  },
  {
   "cell_type": "code",
   "execution_count": 13,
   "metadata": {},
   "outputs": [],
   "source": [
    "text=text_splitter.split_documents(docs)"
   ]
  },
  {
   "cell_type": "code",
   "execution_count": 14,
   "metadata": {},
   "outputs": [
    {
     "data": {
      "text/plain": [
       "'Databricks today announced that it has acquired Okera, a data governance platform with a focus on AI. The two companies did not disclose the purchase price. According to Crunchbase, Okera previously raised just under $30 million. Investors include Felicis, Bessemer Venture Partners, Cyber Mentor Fund, ClearSky and Emergent Ventures.'"
      ]
     },
     "execution_count": 14,
     "metadata": {},
     "output_type": "execute_result"
    }
   ],
   "source": [
    "text[0].page_content"
   ]
  },
  {
   "cell_type": "code",
   "execution_count": 15,
   "metadata": {},
   "outputs": [
    {
     "data": {
      "text/plain": [
       "233"
      ]
     },
     "execution_count": 15,
     "metadata": {},
     "output_type": "execute_result"
    }
   ],
   "source": [
    "len(text)"
   ]
  },
  {
   "cell_type": "code",
   "execution_count": 16,
   "metadata": {},
   "outputs": [],
   "source": [
    "#creating a chroma db\n",
    "\n",
    "directory=\"db\"\n",
    "\n"
   ]
  },
  {
   "cell_type": "code",
   "execution_count": 17,
   "metadata": {},
   "outputs": [
    {
     "data": {
      "text/plain": [
       "<bound method Chroma.persist of <langchain_community.vectorstores.chroma.Chroma object at 0x7738b5ddbdc0>>"
      ]
     },
     "execution_count": 17,
     "metadata": {},
     "output_type": "execute_result"
    }
   ],
   "source": [
    "from langchain.vectorstores import Chroma\n",
    "vector_database=Chroma.from_documents(documents=text, embedding=embeddings, persist_directory=directory)\n",
    "\n",
    "vector_database.persist"
   ]
  },
  {
   "cell_type": "code",
   "execution_count": 18,
   "metadata": {},
   "outputs": [],
   "source": [
    "#now since database is created, now lets starting cooking\n",
    "database=None"
   ]
  },
  {
   "cell_type": "code",
   "execution_count": 19,
   "metadata": {},
   "outputs": [
    {
     "name": "stderr",
     "output_type": "stream",
     "text": [
      "/home/saugat/Desktop/GenAI/GenAI_env/lib/python3.10/site-packages/langchain_core/_api/deprecation.py:139: LangChainDeprecationWarning: The class `Chroma` was deprecated in LangChain 0.2.9 and will be removed in 0.4. An updated version of the class exists in the langchain-chroma package and should be used instead. To use it run `pip install -U langchain-chroma` and import as `from langchain_chroma import Chroma`.\n",
      "  warn_deprecated(\n"
     ]
    }
   ],
   "source": [
    "database=Chroma(persist_directory=directory, embedding_function=embeddings)"
   ]
  },
  {
   "cell_type": "code",
   "execution_count": 20,
   "metadata": {},
   "outputs": [
    {
     "data": {
      "text/plain": [
       "<langchain_community.vectorstores.chroma.Chroma at 0x773877e23fa0>"
      ]
     },
     "execution_count": 20,
     "metadata": {},
     "output_type": "execute_result"
    }
   ],
   "source": [
    "database"
   ]
  },
  {
   "cell_type": "code",
   "execution_count": 21,
   "metadata": {},
   "outputs": [
    {
     "name": "stderr",
     "output_type": "stream",
     "text": [
      "/home/saugat/Desktop/GenAI/GenAI_env/lib/python3.10/site-packages/langchain_core/_api/deprecation.py:139: LangChainDeprecationWarning: The method `BaseRetriever.get_relevant_documents` was deprecated in langchain-core 0.1.46 and will be removed in 0.3.0. Use invoke instead.\n",
      "  warn_deprecated(\n"
     ]
    }
   ],
   "source": [
    "#making a retriever for retriving the documnets\n",
    "retriever=database.as_retriever()\n",
    "answer=retriever.get_relevant_documents(\"How much money did Microsoft raise?\")"
   ]
  },
  {
   "cell_type": "code",
   "execution_count": 22,
   "metadata": {},
   "outputs": [
    {
     "data": {
      "text/plain": [
       "[Document(metadata={'source': '/home/saugat/Desktop/GenAI/RAG using genAI/chroma_db/new_articles/05-03-chatgpt-everything-you-need-to-know-about-the-ai-powered-chatbot.txt'}, page_content='April 28, 2023\\n\\nVC firms including Sequoia Capital, Andreessen Horowitz, Thrive and K2 Global are picking up new shares, according to documents seen by TechCrunch. A source tells us Founders Fund is also investing. Altogether the VCs have put in just over $300 million at a valuation of $27 billion to $29 billion. This is separate to a big investment from Microsoft announced earlier this year, a person familiar with the development told TechCrunch, which closed in January. The size of Microsoft’s investment is believed to be around $10 billion, a figure we confirmed with our source.\\n\\nApril 25, 2023\\n\\nCalled ChatGPT Business, OpenAI describes the forthcoming offering as “for professionals who need more control over their data as well as enterprises seeking to manage their end users.”'),\n",
       " Document(metadata={'source': '/home/saugat/Desktop/GenAI/RAG using genAI/chroma_db/new_articles/05-03-checks-the-ai-powered-data-protection-project-incubated-in-area-120-officially-exits-to-google.txt'}, page_content='The amount that Google invested in the project was never disclosed, nor was the valuation of the exit to the parent company from the incubator, but the company has confirmed that there was a valuation and that it had grown since launch.\\n\\nThe company is not disclosing how many customers it has in total but notes that they are in the sectors of gaming, health, finance, education and retail. A sampling includes Miniclip, Rovio, Kongregate, Crayola and Yousician and in total the number of customers represented by its customers is over 3 billion.\\n\\nChecks will sit in the Developer X division. “What Fergus, Nia, and the entire Google Checks team have accomplished is one of the hardest things to do. Their focus on customer needs and nimble execution has served them well, and we’re eager to push ahead in this next phase of Checks,” said Jeanine Banks in a statement.'),\n",
       " Document(metadata={'source': '/home/saugat/Desktop/GenAI/RAG using genAI/chroma_db/new_articles/05-07-3one4-capital-driven-by-contrarian-bets-raises-200-million-new-fund.txt'}, page_content='Partners of 3one4 Capital, a venture capital firm in India, recently went on a road show to raise a new fund. Within two and a half months, at the height of the worsening global economy, they had secured $200 million. It’s the fourth marquee fund for the Bengaluru-headquartered fund, whose portfolio includes four unicorn startups.\\n\\nThe fund, sixth overall for 3one4 Capital, was oversubscribed to $250 million but the firm is accepting only $200 million to keep itself lean and disciplined, said Pranav Pai, co-founder and partner at 3one4 Capital. The firm’s decision to limit the fund size is emblematic of its strategic choices, which have set it apart from other Indian venture firms.'),\n",
       " Document(metadata={'source': '/home/saugat/Desktop/GenAI/RAG using genAI/chroma_db/new_articles/05-07-fintech-space-continues-to-be-competitive-and-drama-filled.txt'}, page_content='Exclusive: Former Venmo COO raises $20M for Vera Equity\\n\\nTarabut Gateway raises $32 million to expand Saudi open banking\\n\\nMusic financing startup Duetti raises $32 million to buy old songs\\n\\nBilling platform Inbox Health raises $22.5M and more digital health fundings\\n\\nGoogle’s VC firm just led a $12 million Series A investment in Range, a startup that’s training AI to give financial advice\\n\\nOpenEnvoy raises $15 million to grow AP automation solution\\n\\nMiami-based startup Kiddie Kredit raises $1.4M with support from Dwyane Wade and Baron Davis\\n\\nBlack-owned tech firm Greenwood acquires digital banking rival. TechCrunch covered Greenwood’s last raise in March of 2021 here.')]"
      ]
     },
     "execution_count": 22,
     "metadata": {},
     "output_type": "execute_result"
    }
   ],
   "source": [
    "answer"
   ]
  },
  {
   "cell_type": "code",
   "execution_count": 23,
   "metadata": {},
   "outputs": [
    {
     "name": "stderr",
     "output_type": "stream",
     "text": [
      "/home/saugat/Desktop/GenAI/GenAI_env/lib/python3.10/site-packages/langchain_core/_api/deprecation.py:139: LangChainDeprecationWarning: The class `OpenAI` was deprecated in LangChain 0.0.10 and will be removed in 0.3.0. An updated version of the class exists in the langchain-openai package and should be used instead. To use it run `pip install -U langchain-openai` and import as `from langchain_openai import OpenAI`.\n",
      "  warn_deprecated(\n"
     ]
    }
   ],
   "source": [
    "#making chain\n",
    "from langchain.chains import RetrievalQA\n",
    "llm=OpenAI(api_key=api_key)"
   ]
  },
  {
   "cell_type": "code",
   "execution_count": 24,
   "metadata": {},
   "outputs": [],
   "source": [
    "qa_chain=RetrievalQA.from_chain_type(\n",
    "    llm=llm,\n",
    "    chain_type=\"stuff\",\n",
    "    retriever=retriever,\n",
    "    return_source_documents=True\n",
    ")"
   ]
  },
  {
   "cell_type": "code",
   "execution_count": 25,
   "metadata": {},
   "outputs": [],
   "source": [
    "def llm_response(response):\n",
    "    print(response[\"result\"])\n",
    "    print(\"\\n\\nsources\")\n",
    "\n",
    "    for i in response[\"source_documents\"]:\n",
    "        print(i.metadata[\"source\"])"
   ]
  },
  {
   "cell_type": "code",
   "execution_count": 26,
   "metadata": {},
   "outputs": [],
   "source": [
    "query=\"How much money did Microsoft raise?\""
   ]
  },
  {
   "cell_type": "code",
   "execution_count": 27,
   "metadata": {},
   "outputs": [
    {
     "name": "stderr",
     "output_type": "stream",
     "text": [
      "/home/saugat/Desktop/GenAI/GenAI_env/lib/python3.10/site-packages/langchain_core/_api/deprecation.py:139: LangChainDeprecationWarning: The method `Chain.__call__` was deprecated in langchain 0.1.0 and will be removed in 0.3.0. Use invoke instead.\n",
      "  warn_deprecated(\n"
     ]
    }
   ],
   "source": [
    "response_of_llm=qa_chain(query)"
   ]
  },
  {
   "cell_type": "code",
   "execution_count": 28,
   "metadata": {},
   "outputs": [
    {
     "data": {
      "text/plain": [
       "{'query': 'How much money did Microsoft raise?',\n",
       " 'result': \" The size of Microsoft's investment is believed to be around $10 billion.\",\n",
       " 'source_documents': [Document(metadata={'source': '/home/saugat/Desktop/GenAI/RAG using genAI/chroma_db/new_articles/05-03-chatgpt-everything-you-need-to-know-about-the-ai-powered-chatbot.txt'}, page_content='April 28, 2023\\n\\nVC firms including Sequoia Capital, Andreessen Horowitz, Thrive and K2 Global are picking up new shares, according to documents seen by TechCrunch. A source tells us Founders Fund is also investing. Altogether the VCs have put in just over $300 million at a valuation of $27 billion to $29 billion. This is separate to a big investment from Microsoft announced earlier this year, a person familiar with the development told TechCrunch, which closed in January. The size of Microsoft’s investment is believed to be around $10 billion, a figure we confirmed with our source.\\n\\nApril 25, 2023\\n\\nCalled ChatGPT Business, OpenAI describes the forthcoming offering as “for professionals who need more control over their data as well as enterprises seeking to manage their end users.”'),\n",
       "  Document(metadata={'source': '/home/saugat/Desktop/GenAI/RAG using genAI/chroma_db/new_articles/05-03-checks-the-ai-powered-data-protection-project-incubated-in-area-120-officially-exits-to-google.txt'}, page_content='The amount that Google invested in the project was never disclosed, nor was the valuation of the exit to the parent company from the incubator, but the company has confirmed that there was a valuation and that it had grown since launch.\\n\\nThe company is not disclosing how many customers it has in total but notes that they are in the sectors of gaming, health, finance, education and retail. A sampling includes Miniclip, Rovio, Kongregate, Crayola and Yousician and in total the number of customers represented by its customers is over 3 billion.\\n\\nChecks will sit in the Developer X division. “What Fergus, Nia, and the entire Google Checks team have accomplished is one of the hardest things to do. Their focus on customer needs and nimble execution has served them well, and we’re eager to push ahead in this next phase of Checks,” said Jeanine Banks in a statement.'),\n",
       "  Document(metadata={'source': '/home/saugat/Desktop/GenAI/RAG using genAI/chroma_db/new_articles/05-07-3one4-capital-driven-by-contrarian-bets-raises-200-million-new-fund.txt'}, page_content='Partners of 3one4 Capital, a venture capital firm in India, recently went on a road show to raise a new fund. Within two and a half months, at the height of the worsening global economy, they had secured $200 million. It’s the fourth marquee fund for the Bengaluru-headquartered fund, whose portfolio includes four unicorn startups.\\n\\nThe fund, sixth overall for 3one4 Capital, was oversubscribed to $250 million but the firm is accepting only $200 million to keep itself lean and disciplined, said Pranav Pai, co-founder and partner at 3one4 Capital. The firm’s decision to limit the fund size is emblematic of its strategic choices, which have set it apart from other Indian venture firms.'),\n",
       "  Document(metadata={'source': '/home/saugat/Desktop/GenAI/RAG using genAI/chroma_db/new_articles/05-07-fintech-space-continues-to-be-competitive-and-drama-filled.txt'}, page_content='Exclusive: Former Venmo COO raises $20M for Vera Equity\\n\\nTarabut Gateway raises $32 million to expand Saudi open banking\\n\\nMusic financing startup Duetti raises $32 million to buy old songs\\n\\nBilling platform Inbox Health raises $22.5M and more digital health fundings\\n\\nGoogle’s VC firm just led a $12 million Series A investment in Range, a startup that’s training AI to give financial advice\\n\\nOpenEnvoy raises $15 million to grow AP automation solution\\n\\nMiami-based startup Kiddie Kredit raises $1.4M with support from Dwyane Wade and Baron Davis\\n\\nBlack-owned tech firm Greenwood acquires digital banking rival. TechCrunch covered Greenwood’s last raise in March of 2021 here.')]}"
      ]
     },
     "execution_count": 28,
     "metadata": {},
     "output_type": "execute_result"
    }
   ],
   "source": [
    "response_of_llm"
   ]
  },
  {
   "cell_type": "code",
   "execution_count": 29,
   "metadata": {},
   "outputs": [],
   "source": [
    "retriever = vector_database.as_retriever(search_kwargs={\"k\": 2}) #only select first 2 context"
   ]
  },
  {
   "cell_type": "code",
   "execution_count": 30,
   "metadata": {},
   "outputs": [],
   "source": [
    "docs2 = retriever.get_relevant_documents(\"How much money did Microsoft raise?\")"
   ]
  },
  {
   "cell_type": "code",
   "execution_count": 31,
   "metadata": {},
   "outputs": [
    {
     "data": {
      "text/plain": [
       "[Document(metadata={'source': '/home/saugat/Desktop/GenAI/RAG using genAI/chroma_db/new_articles/05-03-chatgpt-everything-you-need-to-know-about-the-ai-powered-chatbot.txt'}, page_content='April 28, 2023\\n\\nVC firms including Sequoia Capital, Andreessen Horowitz, Thrive and K2 Global are picking up new shares, according to documents seen by TechCrunch. A source tells us Founders Fund is also investing. Altogether the VCs have put in just over $300 million at a valuation of $27 billion to $29 billion. This is separate to a big investment from Microsoft announced earlier this year, a person familiar with the development told TechCrunch, which closed in January. The size of Microsoft’s investment is believed to be around $10 billion, a figure we confirmed with our source.\\n\\nApril 25, 2023\\n\\nCalled ChatGPT Business, OpenAI describes the forthcoming offering as “for professionals who need more control over their data as well as enterprises seeking to manage their end users.”'),\n",
       " Document(metadata={'source': '/home/saugat/Desktop/GenAI/RAG using genAI/chroma_db/new_articles/05-03-checks-the-ai-powered-data-protection-project-incubated-in-area-120-officially-exits-to-google.txt'}, page_content='The amount that Google invested in the project was never disclosed, nor was the valuation of the exit to the parent company from the incubator, but the company has confirmed that there was a valuation and that it had grown since launch.\\n\\nThe company is not disclosing how many customers it has in total but notes that they are in the sectors of gaming, health, finance, education and retail. A sampling includes Miniclip, Rovio, Kongregate, Crayola and Yousician and in total the number of customers represented by its customers is over 3 billion.\\n\\nChecks will sit in the Developer X division. “What Fergus, Nia, and the entire Google Checks team have accomplished is one of the hardest things to do. Their focus on customer needs and nimble execution has served them well, and we’re eager to push ahead in this next phase of Checks,” said Jeanine Banks in a statement.')]"
      ]
     },
     "execution_count": 31,
     "metadata": {},
     "output_type": "execute_result"
    }
   ],
   "source": [
    "docs2"
   ]
  },
  {
   "cell_type": "code",
   "execution_count": 32,
   "metadata": {},
   "outputs": [],
   "source": [
    "query=\"How much money did Microsoft raise?\""
   ]
  },
  {
   "cell_type": "code",
   "execution_count": 33,
   "metadata": {},
   "outputs": [],
   "source": [
    "response_of_llm=qa_chain(query)"
   ]
  },
  {
   "cell_type": "code",
   "execution_count": 34,
   "metadata": {},
   "outputs": [
    {
     "data": {
      "text/plain": [
       "{'query': 'How much money did Microsoft raise?',\n",
       " 'result': '\\nMicrosoft raised $10 billion.',\n",
       " 'source_documents': [Document(metadata={'source': '/home/saugat/Desktop/GenAI/RAG using genAI/chroma_db/new_articles/05-03-chatgpt-everything-you-need-to-know-about-the-ai-powered-chatbot.txt'}, page_content='April 28, 2023\\n\\nVC firms including Sequoia Capital, Andreessen Horowitz, Thrive and K2 Global are picking up new shares, according to documents seen by TechCrunch. A source tells us Founders Fund is also investing. Altogether the VCs have put in just over $300 million at a valuation of $27 billion to $29 billion. This is separate to a big investment from Microsoft announced earlier this year, a person familiar with the development told TechCrunch, which closed in January. The size of Microsoft’s investment is believed to be around $10 billion, a figure we confirmed with our source.\\n\\nApril 25, 2023\\n\\nCalled ChatGPT Business, OpenAI describes the forthcoming offering as “for professionals who need more control over their data as well as enterprises seeking to manage their end users.”'),\n",
       "  Document(metadata={'source': '/home/saugat/Desktop/GenAI/RAG using genAI/chroma_db/new_articles/05-03-checks-the-ai-powered-data-protection-project-incubated-in-area-120-officially-exits-to-google.txt'}, page_content='The amount that Google invested in the project was never disclosed, nor was the valuation of the exit to the parent company from the incubator, but the company has confirmed that there was a valuation and that it had grown since launch.\\n\\nThe company is not disclosing how many customers it has in total but notes that they are in the sectors of gaming, health, finance, education and retail. A sampling includes Miniclip, Rovio, Kongregate, Crayola and Yousician and in total the number of customers represented by its customers is over 3 billion.\\n\\nChecks will sit in the Developer X division. “What Fergus, Nia, and the entire Google Checks team have accomplished is one of the hardest things to do. Their focus on customer needs and nimble execution has served them well, and we’re eager to push ahead in this next phase of Checks,” said Jeanine Banks in a statement.'),\n",
       "  Document(metadata={'source': '/home/saugat/Desktop/GenAI/RAG using genAI/chroma_db/new_articles/05-07-3one4-capital-driven-by-contrarian-bets-raises-200-million-new-fund.txt'}, page_content='Partners of 3one4 Capital, a venture capital firm in India, recently went on a road show to raise a new fund. Within two and a half months, at the height of the worsening global economy, they had secured $200 million. It’s the fourth marquee fund for the Bengaluru-headquartered fund, whose portfolio includes four unicorn startups.\\n\\nThe fund, sixth overall for 3one4 Capital, was oversubscribed to $250 million but the firm is accepting only $200 million to keep itself lean and disciplined, said Pranav Pai, co-founder and partner at 3one4 Capital. The firm’s decision to limit the fund size is emblematic of its strategic choices, which have set it apart from other Indian venture firms.'),\n",
       "  Document(metadata={'source': '/home/saugat/Desktop/GenAI/RAG using genAI/chroma_db/new_articles/05-07-fintech-space-continues-to-be-competitive-and-drama-filled.txt'}, page_content='Exclusive: Former Venmo COO raises $20M for Vera Equity\\n\\nTarabut Gateway raises $32 million to expand Saudi open banking\\n\\nMusic financing startup Duetti raises $32 million to buy old songs\\n\\nBilling platform Inbox Health raises $22.5M and more digital health fundings\\n\\nGoogle’s VC firm just led a $12 million Series A investment in Range, a startup that’s training AI to give financial advice\\n\\nOpenEnvoy raises $15 million to grow AP automation solution\\n\\nMiami-based startup Kiddie Kredit raises $1.4M with support from Dwyane Wade and Baron Davis\\n\\nBlack-owned tech firm Greenwood acquires digital banking rival. TechCrunch covered Greenwood’s last raise in March of 2021 here.')]}"
      ]
     },
     "execution_count": 34,
     "metadata": {},
     "output_type": "execute_result"
    }
   ],
   "source": [
    "response_of_llm"
   ]
  },
  {
   "cell_type": "code",
   "execution_count": 35,
   "metadata": {},
   "outputs": [
    {
     "name": "stdout",
     "output_type": "stream",
     "text": [
      "\n",
      "Microsoft raised $10 billion.\n",
      "\n",
      "\n",
      "sources\n",
      "/home/saugat/Desktop/GenAI/RAG using genAI/chroma_db/new_articles/05-03-chatgpt-everything-you-need-to-know-about-the-ai-powered-chatbot.txt\n",
      "/home/saugat/Desktop/GenAI/RAG using genAI/chroma_db/new_articles/05-03-checks-the-ai-powered-data-protection-project-incubated-in-area-120-officially-exits-to-google.txt\n",
      "/home/saugat/Desktop/GenAI/RAG using genAI/chroma_db/new_articles/05-07-3one4-capital-driven-by-contrarian-bets-raises-200-million-new-fund.txt\n",
      "/home/saugat/Desktop/GenAI/RAG using genAI/chroma_db/new_articles/05-07-fintech-space-continues-to-be-competitive-and-drama-filled.txt\n"
     ]
    }
   ],
   "source": [
    "llm_response(response_of_llm)"
   ]
  },
  {
   "cell_type": "code",
   "execution_count": null,
   "metadata": {},
   "outputs": [],
   "source": []
  }
 ],
 "metadata": {
  "kernelspec": {
   "display_name": "GenAI_env",
   "language": "python",
   "name": "python3"
  },
  "language_info": {
   "codemirror_mode": {
    "name": "ipython",
    "version": 3
   },
   "file_extension": ".py",
   "mimetype": "text/x-python",
   "name": "python",
   "nbconvert_exporter": "python",
   "pygments_lexer": "ipython3",
   "version": "3.10.12"
  }
 },
 "nbformat": 4,
 "nbformat_minor": 2
}
